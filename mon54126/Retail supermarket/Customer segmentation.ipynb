{
 "cells": [
  {
   "cell_type": "markdown",
   "id": "1ec2a12c",
   "metadata": {},
   "source": [
    "# Introduction\n",
    "ข้อมูลการซื้อของลูกค้ามีประโยชน์อย่างมากที่จะนำไปใช้งานเพื่อต่อยอดในกระบวนการที่เกี่ยวข้องกับ data-driven approach ใน notebook นี้จะแสดงการทำ data analytics โดยอาศัย unsupervised learning ในการช่วยวิเคราะห์หาพฤติกรรมลูกค้าที่ซื้อของจากบริษัทค้าปลีก"
   ]
  },
  {
   "cell_type": "markdown",
   "id": "c290838d",
   "metadata": {},
   "source": [
    "# Loading the dataset"
   ]
  },
  {
   "cell_type": "code",
   "execution_count": 1,
   "id": "5705dfa4",
   "metadata": {},
   "outputs": [],
   "source": [
    "import pandas as pd\n",
    "import numpy as np\n",
    "df_read = pd.read_excel('online_retail_half.xlsx')"
   ]
  },
  {
   "cell_type": "markdown",
   "id": "7105685e",
   "metadata": {},
   "source": [
    "# พิจารณาประเภทข้อมูล\n",
    "* Invoice : Nominal\n",
    "* StockCode : Nominal\n",
    "* Description : Nominal\n",
    "* Quantity : Quantitative\n",
    "* Invoice date : Ordinal\n",
    "* Price : Continuous\n",
    "* Customer ID : Nominal\n",
    "* Country : Nominal"
   ]
  },
  {
   "cell_type": "markdown",
   "id": "84e06668",
   "metadata": {},
   "source": [
    "# Preprocess"
   ]
  },
  {
   "cell_type": "code",
   "execution_count": 2,
   "id": "0722f243",
   "metadata": {},
   "outputs": [],
   "source": [
    "df = df_read.copy()\n",
    "# Clear any entry with N/A\n",
    "df = df.dropna()\n",
    "# Drop duplicate\n",
    "df = df.drop_duplicates()\n",
    "\n",
    "# เปลี่ยน invoice ให้เป็น str\n",
    "df['Invoice'] = df['Invoice'].astype(str)\n",
    "df['StockCode'] = df['StockCode'].astype(str)\n",
    "df['Customer ID'] = df['Customer ID'].astype(str)\n",
    "# นำรายการที่ Quantity ติดลบออก\n",
    "df = df[df['Quantity'] > 0]\n",
    "# นำรายการที่ไม่ใช่รายการขายออก\n",
    "df = df.drop(df[df['StockCode'].apply(str).str[:1].apply(lambda x: x.isnumeric()) == False].index, axis=0)\n",
    "df_france = df[df['Country'] == 'France']\n",
    "\n",
    "# สร้างราคาคูณปริมาณ\n",
    "df['price_qty'] = df['Quantity']*df['Price']"
   ]
  },
  {
   "cell_type": "code",
   "execution_count": 3,
   "id": "d696269f",
   "metadata": {},
   "outputs": [
    {
     "data": {
      "text/html": [
       "<div>\n",
       "<style scoped>\n",
       "    .dataframe tbody tr th:only-of-type {\n",
       "        vertical-align: middle;\n",
       "    }\n",
       "\n",
       "    .dataframe tbody tr th {\n",
       "        vertical-align: top;\n",
       "    }\n",
       "\n",
       "    .dataframe thead th {\n",
       "        text-align: right;\n",
       "    }\n",
       "</style>\n",
       "<table border=\"1\" class=\"dataframe\">\n",
       "  <thead>\n",
       "    <tr style=\"text-align: right;\">\n",
       "      <th></th>\n",
       "      <th>Invoice</th>\n",
       "      <th>StockCode</th>\n",
       "      <th>Description</th>\n",
       "      <th>Quantity</th>\n",
       "      <th>InvoiceDate</th>\n",
       "      <th>Price</th>\n",
       "      <th>Customer ID</th>\n",
       "      <th>Country</th>\n",
       "      <th>price_qty</th>\n",
       "    </tr>\n",
       "  </thead>\n",
       "  <tbody>\n",
       "    <tr>\n",
       "      <th>0</th>\n",
       "      <td>489434</td>\n",
       "      <td>85048</td>\n",
       "      <td>15CM CHRISTMAS GLASS BALL 20 LIGHTS</td>\n",
       "      <td>12</td>\n",
       "      <td>2009-12-01 07:45:00</td>\n",
       "      <td>6.95</td>\n",
       "      <td>13085.0</td>\n",
       "      <td>United Kingdom</td>\n",
       "      <td>83.40</td>\n",
       "    </tr>\n",
       "    <tr>\n",
       "      <th>1</th>\n",
       "      <td>489434</td>\n",
       "      <td>79323P</td>\n",
       "      <td>PINK CHERRY LIGHTS</td>\n",
       "      <td>12</td>\n",
       "      <td>2009-12-01 07:45:00</td>\n",
       "      <td>6.75</td>\n",
       "      <td>13085.0</td>\n",
       "      <td>United Kingdom</td>\n",
       "      <td>81.00</td>\n",
       "    </tr>\n",
       "    <tr>\n",
       "      <th>2</th>\n",
       "      <td>489434</td>\n",
       "      <td>79323W</td>\n",
       "      <td>WHITE CHERRY LIGHTS</td>\n",
       "      <td>12</td>\n",
       "      <td>2009-12-01 07:45:00</td>\n",
       "      <td>6.75</td>\n",
       "      <td>13085.0</td>\n",
       "      <td>United Kingdom</td>\n",
       "      <td>81.00</td>\n",
       "    </tr>\n",
       "    <tr>\n",
       "      <th>3</th>\n",
       "      <td>489434</td>\n",
       "      <td>22041</td>\n",
       "      <td>RECORD FRAME 7\" SINGLE SIZE</td>\n",
       "      <td>48</td>\n",
       "      <td>2009-12-01 07:45:00</td>\n",
       "      <td>2.10</td>\n",
       "      <td>13085.0</td>\n",
       "      <td>United Kingdom</td>\n",
       "      <td>100.80</td>\n",
       "    </tr>\n",
       "    <tr>\n",
       "      <th>4</th>\n",
       "      <td>489434</td>\n",
       "      <td>21232</td>\n",
       "      <td>STRAWBERRY CERAMIC TRINKET BOX</td>\n",
       "      <td>24</td>\n",
       "      <td>2009-12-01 07:45:00</td>\n",
       "      <td>1.25</td>\n",
       "      <td>13085.0</td>\n",
       "      <td>United Kingdom</td>\n",
       "      <td>30.00</td>\n",
       "    </tr>\n",
       "    <tr>\n",
       "      <th>...</th>\n",
       "      <td>...</td>\n",
       "      <td>...</td>\n",
       "      <td>...</td>\n",
       "      <td>...</td>\n",
       "      <td>...</td>\n",
       "      <td>...</td>\n",
       "      <td>...</td>\n",
       "      <td>...</td>\n",
       "      <td>...</td>\n",
       "    </tr>\n",
       "    <tr>\n",
       "      <th>525456</th>\n",
       "      <td>538171</td>\n",
       "      <td>22271</td>\n",
       "      <td>FELTCRAFT DOLL ROSIE</td>\n",
       "      <td>2</td>\n",
       "      <td>2010-12-09 20:01:00</td>\n",
       "      <td>2.95</td>\n",
       "      <td>17530.0</td>\n",
       "      <td>United Kingdom</td>\n",
       "      <td>5.90</td>\n",
       "    </tr>\n",
       "    <tr>\n",
       "      <th>525457</th>\n",
       "      <td>538171</td>\n",
       "      <td>22750</td>\n",
       "      <td>FELTCRAFT PRINCESS LOLA DOLL</td>\n",
       "      <td>1</td>\n",
       "      <td>2010-12-09 20:01:00</td>\n",
       "      <td>3.75</td>\n",
       "      <td>17530.0</td>\n",
       "      <td>United Kingdom</td>\n",
       "      <td>3.75</td>\n",
       "    </tr>\n",
       "    <tr>\n",
       "      <th>525458</th>\n",
       "      <td>538171</td>\n",
       "      <td>22751</td>\n",
       "      <td>FELTCRAFT PRINCESS OLIVIA DOLL</td>\n",
       "      <td>1</td>\n",
       "      <td>2010-12-09 20:01:00</td>\n",
       "      <td>3.75</td>\n",
       "      <td>17530.0</td>\n",
       "      <td>United Kingdom</td>\n",
       "      <td>3.75</td>\n",
       "    </tr>\n",
       "    <tr>\n",
       "      <th>525459</th>\n",
       "      <td>538171</td>\n",
       "      <td>20970</td>\n",
       "      <td>PINK FLORAL FELTCRAFT SHOULDER BAG</td>\n",
       "      <td>2</td>\n",
       "      <td>2010-12-09 20:01:00</td>\n",
       "      <td>3.75</td>\n",
       "      <td>17530.0</td>\n",
       "      <td>United Kingdom</td>\n",
       "      <td>7.50</td>\n",
       "    </tr>\n",
       "    <tr>\n",
       "      <th>525460</th>\n",
       "      <td>538171</td>\n",
       "      <td>21931</td>\n",
       "      <td>JUMBO STORAGE BAG SUKI</td>\n",
       "      <td>2</td>\n",
       "      <td>2010-12-09 20:01:00</td>\n",
       "      <td>1.95</td>\n",
       "      <td>17530.0</td>\n",
       "      <td>United Kingdom</td>\n",
       "      <td>3.90</td>\n",
       "    </tr>\n",
       "  </tbody>\n",
       "</table>\n",
       "<p>399580 rows × 9 columns</p>\n",
       "</div>"
      ],
      "text/plain": [
       "       Invoice StockCode                          Description  Quantity  \\\n",
       "0       489434     85048  15CM CHRISTMAS GLASS BALL 20 LIGHTS        12   \n",
       "1       489434    79323P                   PINK CHERRY LIGHTS        12   \n",
       "2       489434    79323W                  WHITE CHERRY LIGHTS        12   \n",
       "3       489434     22041         RECORD FRAME 7\" SINGLE SIZE         48   \n",
       "4       489434     21232       STRAWBERRY CERAMIC TRINKET BOX        24   \n",
       "...        ...       ...                                  ...       ...   \n",
       "525456  538171     22271                 FELTCRAFT DOLL ROSIE         2   \n",
       "525457  538171     22750         FELTCRAFT PRINCESS LOLA DOLL         1   \n",
       "525458  538171     22751       FELTCRAFT PRINCESS OLIVIA DOLL         1   \n",
       "525459  538171     20970   PINK FLORAL FELTCRAFT SHOULDER BAG         2   \n",
       "525460  538171     21931               JUMBO STORAGE BAG SUKI         2   \n",
       "\n",
       "               InvoiceDate  Price Customer ID         Country  price_qty  \n",
       "0      2009-12-01 07:45:00   6.95     13085.0  United Kingdom      83.40  \n",
       "1      2009-12-01 07:45:00   6.75     13085.0  United Kingdom      81.00  \n",
       "2      2009-12-01 07:45:00   6.75     13085.0  United Kingdom      81.00  \n",
       "3      2009-12-01 07:45:00   2.10     13085.0  United Kingdom     100.80  \n",
       "4      2009-12-01 07:45:00   1.25     13085.0  United Kingdom      30.00  \n",
       "...                    ...    ...         ...             ...        ...  \n",
       "525456 2010-12-09 20:01:00   2.95     17530.0  United Kingdom       5.90  \n",
       "525457 2010-12-09 20:01:00   3.75     17530.0  United Kingdom       3.75  \n",
       "525458 2010-12-09 20:01:00   3.75     17530.0  United Kingdom       3.75  \n",
       "525459 2010-12-09 20:01:00   3.75     17530.0  United Kingdom       7.50  \n",
       "525460 2010-12-09 20:01:00   1.95     17530.0  United Kingdom       3.90  \n",
       "\n",
       "[399580 rows x 9 columns]"
      ]
     },
     "execution_count": 3,
     "metadata": {},
     "output_type": "execute_result"
    }
   ],
   "source": [
    "df"
   ]
  },
  {
   "cell_type": "code",
   "execution_count": 4,
   "id": "7f6fef93",
   "metadata": {},
   "outputs": [
    {
     "data": {
      "text/html": [
       "<div>\n",
       "<style scoped>\n",
       "    .dataframe tbody tr th:only-of-type {\n",
       "        vertical-align: middle;\n",
       "    }\n",
       "\n",
       "    .dataframe tbody tr th {\n",
       "        vertical-align: top;\n",
       "    }\n",
       "\n",
       "    .dataframe thead th {\n",
       "        text-align: right;\n",
       "    }\n",
       "</style>\n",
       "<table border=\"1\" class=\"dataframe\">\n",
       "  <thead>\n",
       "    <tr style=\"text-align: right;\">\n",
       "      <th></th>\n",
       "      <th>Quantity</th>\n",
       "      <th>Price</th>\n",
       "      <th>price_qty</th>\n",
       "    </tr>\n",
       "    <tr>\n",
       "      <th>Customer ID</th>\n",
       "      <th></th>\n",
       "      <th></th>\n",
       "      <th></th>\n",
       "    </tr>\n",
       "  </thead>\n",
       "  <tbody>\n",
       "    <tr>\n",
       "      <th>12346.0</th>\n",
       "      <td>1.000000</td>\n",
       "      <td>7.056667</td>\n",
       "      <td>7.056667</td>\n",
       "    </tr>\n",
       "    <tr>\n",
       "      <th>12347.0</th>\n",
       "      <td>11.661972</td>\n",
       "      <td>2.295070</td>\n",
       "      <td>18.638310</td>\n",
       "    </tr>\n",
       "    <tr>\n",
       "      <th>12348.0</th>\n",
       "      <td>19.578947</td>\n",
       "      <td>0.704737</td>\n",
       "      <td>11.640000</td>\n",
       "    </tr>\n",
       "    <tr>\n",
       "      <th>12349.0</th>\n",
       "      <td>9.910000</td>\n",
       "      <td>4.253400</td>\n",
       "      <td>22.211400</td>\n",
       "    </tr>\n",
       "    <tr>\n",
       "      <th>12351.0</th>\n",
       "      <td>12.428571</td>\n",
       "      <td>2.355238</td>\n",
       "      <td>14.330000</td>\n",
       "    </tr>\n",
       "    <tr>\n",
       "      <th>...</th>\n",
       "      <td>...</td>\n",
       "      <td>...</td>\n",
       "      <td>...</td>\n",
       "    </tr>\n",
       "    <tr>\n",
       "      <th>18283.0</th>\n",
       "      <td>1.483871</td>\n",
       "      <td>2.199401</td>\n",
       "      <td>2.854240</td>\n",
       "    </tr>\n",
       "    <tr>\n",
       "      <th>18284.0</th>\n",
       "      <td>18.259259</td>\n",
       "      <td>1.521852</td>\n",
       "      <td>15.247407</td>\n",
       "    </tr>\n",
       "    <tr>\n",
       "      <th>18285.0</th>\n",
       "      <td>13.090909</td>\n",
       "      <td>4.563636</td>\n",
       "      <td>34.272727</td>\n",
       "    </tr>\n",
       "    <tr>\n",
       "      <th>18286.0</th>\n",
       "      <td>9.196970</td>\n",
       "      <td>3.580303</td>\n",
       "      <td>18.885303</td>\n",
       "    </tr>\n",
       "    <tr>\n",
       "      <th>18287.0</th>\n",
       "      <td>16.976190</td>\n",
       "      <td>2.283214</td>\n",
       "      <td>27.329881</td>\n",
       "    </tr>\n",
       "  </tbody>\n",
       "</table>\n",
       "<p>4285 rows × 3 columns</p>\n",
       "</div>"
      ],
      "text/plain": [
       "              Quantity     Price  price_qty\n",
       "Customer ID                                \n",
       "12346.0       1.000000  7.056667   7.056667\n",
       "12347.0      11.661972  2.295070  18.638310\n",
       "12348.0      19.578947  0.704737  11.640000\n",
       "12349.0       9.910000  4.253400  22.211400\n",
       "12351.0      12.428571  2.355238  14.330000\n",
       "...                ...       ...        ...\n",
       "18283.0       1.483871  2.199401   2.854240\n",
       "18284.0      18.259259  1.521852  15.247407\n",
       "18285.0      13.090909  4.563636  34.272727\n",
       "18286.0       9.196970  3.580303  18.885303\n",
       "18287.0      16.976190  2.283214  27.329881\n",
       "\n",
       "[4285 rows x 3 columns]"
      ]
     },
     "execution_count": 4,
     "metadata": {},
     "output_type": "execute_result"
    }
   ],
   "source": [
    "df.groupby('Customer ID').mean()"
   ]
  },
  {
   "cell_type": "code",
   "execution_count": 5,
   "id": "caeac453",
   "metadata": {},
   "outputs": [],
   "source": [
    "df_cust = pd.DataFrame(data = {})"
   ]
  },
  {
   "cell_type": "code",
   "execution_count": 6,
   "id": "99c37619",
   "metadata": {},
   "outputs": [],
   "source": [
    "df_cust['Total bill'] = df.groupby('Customer ID')['Invoice'].nunique()\n",
    "df_cust['Total item'] = df.groupby('Customer ID')['Description'].nunique()\n",
    "df_cust['Total Quantity'] = df.groupby('Customer ID').sum().Quantity\n",
    "df_cust['Total Price'] = df.groupby('Customer ID').sum().price_qty#df.groupby('Customer ID').sum().Price\n",
    "#df_cust['Total_price_qty'] = df.groupby('Customer ID').sum().price_qty\n",
    "\n",
    "df_cust['Avg item'] = df_cust['Total item']/df_cust['Total bill']\n",
    "df_cust['Avg Quantity'] = df_cust['Total Quantity']/df_cust['Total bill']\n",
    "df_cust['Avg Price'] = df_cust['Total Price']/df_cust['Total bill']\n",
    "df_cust_full = df_cust\n",
    "df_cust = df_cust[['Total bill', 'Avg item', 'Avg Quantity', 'Avg Price']]"
   ]
  },
  {
   "cell_type": "code",
   "execution_count": 7,
   "id": "868f3af9",
   "metadata": {},
   "outputs": [
    {
     "data": {
      "text/html": [
       "<div>\n",
       "<style scoped>\n",
       "    .dataframe tbody tr th:only-of-type {\n",
       "        vertical-align: middle;\n",
       "    }\n",
       "\n",
       "    .dataframe tbody tr th {\n",
       "        vertical-align: top;\n",
       "    }\n",
       "\n",
       "    .dataframe thead th {\n",
       "        text-align: right;\n",
       "    }\n",
       "</style>\n",
       "<table border=\"1\" class=\"dataframe\">\n",
       "  <thead>\n",
       "    <tr style=\"text-align: right;\">\n",
       "      <th></th>\n",
       "      <th>Total bill</th>\n",
       "      <th>Total item</th>\n",
       "      <th>Total Quantity</th>\n",
       "      <th>Total Price</th>\n",
       "      <th>Avg item</th>\n",
       "      <th>Avg Quantity</th>\n",
       "      <th>Avg Price</th>\n",
       "    </tr>\n",
       "    <tr>\n",
       "      <th>Customer ID</th>\n",
       "      <th></th>\n",
       "      <th></th>\n",
       "      <th></th>\n",
       "      <th></th>\n",
       "      <th></th>\n",
       "      <th></th>\n",
       "      <th></th>\n",
       "    </tr>\n",
       "  </thead>\n",
       "  <tbody>\n",
       "    <tr>\n",
       "      <th>12346.0</th>\n",
       "      <td>2</td>\n",
       "      <td>24</td>\n",
       "      <td>24</td>\n",
       "      <td>169.36</td>\n",
       "      <td>12.0</td>\n",
       "      <td>12.000000</td>\n",
       "      <td>84.680000</td>\n",
       "    </tr>\n",
       "    <tr>\n",
       "      <th>12347.0</th>\n",
       "      <td>2</td>\n",
       "      <td>70</td>\n",
       "      <td>828</td>\n",
       "      <td>1323.32</td>\n",
       "      <td>35.0</td>\n",
       "      <td>414.000000</td>\n",
       "      <td>661.660000</td>\n",
       "    </tr>\n",
       "    <tr>\n",
       "      <th>12348.0</th>\n",
       "      <td>1</td>\n",
       "      <td>19</td>\n",
       "      <td>372</td>\n",
       "      <td>221.16</td>\n",
       "      <td>19.0</td>\n",
       "      <td>372.000000</td>\n",
       "      <td>221.160000</td>\n",
       "    </tr>\n",
       "    <tr>\n",
       "      <th>12349.0</th>\n",
       "      <td>2</td>\n",
       "      <td>93</td>\n",
       "      <td>991</td>\n",
       "      <td>2221.14</td>\n",
       "      <td>46.5</td>\n",
       "      <td>495.500000</td>\n",
       "      <td>1110.570000</td>\n",
       "    </tr>\n",
       "    <tr>\n",
       "      <th>12351.0</th>\n",
       "      <td>1</td>\n",
       "      <td>21</td>\n",
       "      <td>261</td>\n",
       "      <td>300.93</td>\n",
       "      <td>21.0</td>\n",
       "      <td>261.000000</td>\n",
       "      <td>300.930000</td>\n",
       "    </tr>\n",
       "    <tr>\n",
       "      <th>...</th>\n",
       "      <td>...</td>\n",
       "      <td>...</td>\n",
       "      <td>...</td>\n",
       "      <td>...</td>\n",
       "      <td>...</td>\n",
       "      <td>...</td>\n",
       "      <td>...</td>\n",
       "    </tr>\n",
       "    <tr>\n",
       "      <th>18283.0</th>\n",
       "      <td>6</td>\n",
       "      <td>162</td>\n",
       "      <td>322</td>\n",
       "      <td>619.37</td>\n",
       "      <td>27.0</td>\n",
       "      <td>53.666667</td>\n",
       "      <td>103.228333</td>\n",
       "    </tr>\n",
       "    <tr>\n",
       "      <th>18284.0</th>\n",
       "      <td>1</td>\n",
       "      <td>27</td>\n",
       "      <td>493</td>\n",
       "      <td>411.68</td>\n",
       "      <td>27.0</td>\n",
       "      <td>493.000000</td>\n",
       "      <td>411.680000</td>\n",
       "    </tr>\n",
       "    <tr>\n",
       "      <th>18285.0</th>\n",
       "      <td>1</td>\n",
       "      <td>11</td>\n",
       "      <td>144</td>\n",
       "      <td>377.00</td>\n",
       "      <td>11.0</td>\n",
       "      <td>144.000000</td>\n",
       "      <td>377.000000</td>\n",
       "    </tr>\n",
       "    <tr>\n",
       "      <th>18286.0</th>\n",
       "      <td>2</td>\n",
       "      <td>66</td>\n",
       "      <td>607</td>\n",
       "      <td>1246.43</td>\n",
       "      <td>33.0</td>\n",
       "      <td>303.500000</td>\n",
       "      <td>623.215000</td>\n",
       "    </tr>\n",
       "    <tr>\n",
       "      <th>18287.0</th>\n",
       "      <td>4</td>\n",
       "      <td>76</td>\n",
       "      <td>1426</td>\n",
       "      <td>2295.71</td>\n",
       "      <td>19.0</td>\n",
       "      <td>356.500000</td>\n",
       "      <td>573.927500</td>\n",
       "    </tr>\n",
       "  </tbody>\n",
       "</table>\n",
       "<p>4285 rows × 7 columns</p>\n",
       "</div>"
      ],
      "text/plain": [
       "             Total bill  Total item  Total Quantity  Total Price  Avg item  \\\n",
       "Customer ID                                                                  \n",
       "12346.0               2          24              24       169.36      12.0   \n",
       "12347.0               2          70             828      1323.32      35.0   \n",
       "12348.0               1          19             372       221.16      19.0   \n",
       "12349.0               2          93             991      2221.14      46.5   \n",
       "12351.0               1          21             261       300.93      21.0   \n",
       "...                 ...         ...             ...          ...       ...   \n",
       "18283.0               6         162             322       619.37      27.0   \n",
       "18284.0               1          27             493       411.68      27.0   \n",
       "18285.0               1          11             144       377.00      11.0   \n",
       "18286.0               2          66             607      1246.43      33.0   \n",
       "18287.0               4          76            1426      2295.71      19.0   \n",
       "\n",
       "             Avg Quantity    Avg Price  \n",
       "Customer ID                             \n",
       "12346.0         12.000000    84.680000  \n",
       "12347.0        414.000000   661.660000  \n",
       "12348.0        372.000000   221.160000  \n",
       "12349.0        495.500000  1110.570000  \n",
       "12351.0        261.000000   300.930000  \n",
       "...                   ...          ...  \n",
       "18283.0         53.666667   103.228333  \n",
       "18284.0        493.000000   411.680000  \n",
       "18285.0        144.000000   377.000000  \n",
       "18286.0        303.500000   623.215000  \n",
       "18287.0        356.500000   573.927500  \n",
       "\n",
       "[4285 rows x 7 columns]"
      ]
     },
     "execution_count": 7,
     "metadata": {},
     "output_type": "execute_result"
    }
   ],
   "source": [
    "df_cust_full"
   ]
  },
  {
   "cell_type": "code",
   "execution_count": 8,
   "id": "1d766e6a",
   "metadata": {},
   "outputs": [
    {
     "data": {
      "text/html": [
       "<div>\n",
       "<style scoped>\n",
       "    .dataframe tbody tr th:only-of-type {\n",
       "        vertical-align: middle;\n",
       "    }\n",
       "\n",
       "    .dataframe tbody tr th {\n",
       "        vertical-align: top;\n",
       "    }\n",
       "\n",
       "    .dataframe thead th {\n",
       "        text-align: right;\n",
       "    }\n",
       "</style>\n",
       "<table border=\"1\" class=\"dataframe\">\n",
       "  <thead>\n",
       "    <tr style=\"text-align: right;\">\n",
       "      <th></th>\n",
       "      <th>Total bill</th>\n",
       "      <th>Avg item</th>\n",
       "      <th>Avg Quantity</th>\n",
       "      <th>Avg Price</th>\n",
       "    </tr>\n",
       "    <tr>\n",
       "      <th>Customer ID</th>\n",
       "      <th></th>\n",
       "      <th></th>\n",
       "      <th></th>\n",
       "      <th></th>\n",
       "    </tr>\n",
       "  </thead>\n",
       "  <tbody>\n",
       "    <tr>\n",
       "      <th>12346.0</th>\n",
       "      <td>2</td>\n",
       "      <td>12.0</td>\n",
       "      <td>12.000000</td>\n",
       "      <td>84.680000</td>\n",
       "    </tr>\n",
       "    <tr>\n",
       "      <th>12347.0</th>\n",
       "      <td>2</td>\n",
       "      <td>35.0</td>\n",
       "      <td>414.000000</td>\n",
       "      <td>661.660000</td>\n",
       "    </tr>\n",
       "    <tr>\n",
       "      <th>12348.0</th>\n",
       "      <td>1</td>\n",
       "      <td>19.0</td>\n",
       "      <td>372.000000</td>\n",
       "      <td>221.160000</td>\n",
       "    </tr>\n",
       "    <tr>\n",
       "      <th>12349.0</th>\n",
       "      <td>2</td>\n",
       "      <td>46.5</td>\n",
       "      <td>495.500000</td>\n",
       "      <td>1110.570000</td>\n",
       "    </tr>\n",
       "    <tr>\n",
       "      <th>12351.0</th>\n",
       "      <td>1</td>\n",
       "      <td>21.0</td>\n",
       "      <td>261.000000</td>\n",
       "      <td>300.930000</td>\n",
       "    </tr>\n",
       "    <tr>\n",
       "      <th>...</th>\n",
       "      <td>...</td>\n",
       "      <td>...</td>\n",
       "      <td>...</td>\n",
       "      <td>...</td>\n",
       "    </tr>\n",
       "    <tr>\n",
       "      <th>18283.0</th>\n",
       "      <td>6</td>\n",
       "      <td>27.0</td>\n",
       "      <td>53.666667</td>\n",
       "      <td>103.228333</td>\n",
       "    </tr>\n",
       "    <tr>\n",
       "      <th>18284.0</th>\n",
       "      <td>1</td>\n",
       "      <td>27.0</td>\n",
       "      <td>493.000000</td>\n",
       "      <td>411.680000</td>\n",
       "    </tr>\n",
       "    <tr>\n",
       "      <th>18285.0</th>\n",
       "      <td>1</td>\n",
       "      <td>11.0</td>\n",
       "      <td>144.000000</td>\n",
       "      <td>377.000000</td>\n",
       "    </tr>\n",
       "    <tr>\n",
       "      <th>18286.0</th>\n",
       "      <td>2</td>\n",
       "      <td>33.0</td>\n",
       "      <td>303.500000</td>\n",
       "      <td>623.215000</td>\n",
       "    </tr>\n",
       "    <tr>\n",
       "      <th>18287.0</th>\n",
       "      <td>4</td>\n",
       "      <td>19.0</td>\n",
       "      <td>356.500000</td>\n",
       "      <td>573.927500</td>\n",
       "    </tr>\n",
       "  </tbody>\n",
       "</table>\n",
       "<p>4285 rows × 4 columns</p>\n",
       "</div>"
      ],
      "text/plain": [
       "             Total bill  Avg item  Avg Quantity    Avg Price\n",
       "Customer ID                                                 \n",
       "12346.0               2      12.0     12.000000    84.680000\n",
       "12347.0               2      35.0    414.000000   661.660000\n",
       "12348.0               1      19.0    372.000000   221.160000\n",
       "12349.0               2      46.5    495.500000  1110.570000\n",
       "12351.0               1      21.0    261.000000   300.930000\n",
       "...                 ...       ...           ...          ...\n",
       "18283.0               6      27.0     53.666667   103.228333\n",
       "18284.0               1      27.0    493.000000   411.680000\n",
       "18285.0               1      11.0    144.000000   377.000000\n",
       "18286.0               2      33.0    303.500000   623.215000\n",
       "18287.0               4      19.0    356.500000   573.927500\n",
       "\n",
       "[4285 rows x 4 columns]"
      ]
     },
     "execution_count": 8,
     "metadata": {},
     "output_type": "execute_result"
    }
   ],
   "source": [
    "df_cust"
   ]
  },
  {
   "cell_type": "code",
   "execution_count": 9,
   "id": "677b39e2",
   "metadata": {
    "scrolled": false
   },
   "outputs": [
    {
     "data": {
      "image/png": "[encoded data removed]",
      "text/plain": [
       "<Figure size 1080x1080 with 4 Axes>"
      ]
     },
     "metadata": {
      "needs_background": "light"
     },
     "output_type": "display_data"
    }
   ],
   "source": [
    "import matplotlib.pyplot as plt\n",
    "import matplotlib\n",
    "import seaborn as sns\n",
    "matplotlib.font_manager.fontManager.addfont('Sarabun-Regular.ttf')\n",
    "matplotlib.rc('font', family='Sarabun')\n",
    "\n",
    "def histplot(df):\n",
    "    fig, axes = plt.subplots(nrows=2, ncols=2)\n",
    "    fig.set_size_inches(15, 15)\n",
    "    plt.subplots_adjust(top=0.92, bottom=0.08, left=0.10, right=0.95, hspace=0.15,\n",
    "                        wspace=0.25)\n",
    "    for i,col in enumerate(df.columns):\n",
    "        df[col].plot(kind = 'hist', bins = 20, ax=axes[i//(2),i%2])\n",
    "        axes[i//(2),i%2].set_title(col)\n",
    "histplot(df_cust)"
   ]
  },
  {
   "cell_type": "code",
   "execution_count": 10,
   "id": "d3124fe9",
   "metadata": {},
   "outputs": [
    {
     "data": {
      "text/plain": [
       "'0.12.2'"
      ]
     },
     "execution_count": 10,
     "metadata": {},
     "output_type": "execute_result"
    }
   ],
   "source": [
    "sns.__version__"
   ]
  },
  {
   "cell_type": "markdown",
   "id": "14b6a219",
   "metadata": {},
   "source": [
    "Normalize and Standardize"
   ]
  },
  {
   "cell_type": "code",
   "execution_count": 11,
   "id": "c3b96703",
   "metadata": {},
   "outputs": [],
   "source": [
    "def preprocess_numeric_data(df_in, method = None):\n",
    "    df = df_in.copy()\n",
    "    if method == None:\n",
    "        return df\n",
    "    \n",
    "    elif method == 'norm':\n",
    "        for col in range(df.shape[1]):\n",
    "            if df.iloc[:,[col]].dtypes.values != np.object:        \n",
    "                # Normalization\n",
    "                df.iloc[:,[col]] = (df.iloc[:,[col]] - df.iloc[:,[col]].min())/(df.iloc[:,[col]].max() - df.iloc[:,[col]].min())\n",
    "        return df\n",
    "    \n",
    "    elif method == 'std':\n",
    "        for col in range(df.shape[1]):\n",
    "            if df.iloc[:,[col]].dtypes.values != np.object: \n",
    "                # Standardization\n",
    "                df.iloc[:,[col]] = (df.iloc[:,[col]] - df.iloc[:,[col]].mean())/df.iloc[:,[col]].std()\n",
    "        return df  "
   ]
  },
  {
   "cell_type": "code",
   "execution_count": 12,
   "id": "1b39bc2a",
   "metadata": {},
   "outputs": [
    {
     "name": "stderr",
     "output_type": "stream",
     "text": [
      "C:\\Users\\User\\AppData\\Local\\Temp/ipykernel_6264/806420187.py:15: DeprecationWarning: `np.object` is a deprecated alias for the builtin `object`. To silence this warning, use `object` by itself. Doing this will not modify any behavior and is safe. \n",
      "Deprecated in NumPy 1.20; for more details and guidance: https://numpy.org/devdocs/release/1.20.0-notes.html#deprecations\n",
      "  if df.iloc[:,[col]].dtypes.values != np.object:\n",
      "C:\\Users\\User\\AppData\\Local\\Temp/ipykernel_6264/806420187.py:8: DeprecationWarning: `np.object` is a deprecated alias for the builtin `object`. To silence this warning, use `object` by itself. Doing this will not modify any behavior and is safe. \n",
      "Deprecated in NumPy 1.20; for more details and guidance: https://numpy.org/devdocs/release/1.20.0-notes.html#deprecations\n",
      "  if df.iloc[:,[col]].dtypes.values != np.object:\n"
     ]
    }
   ],
   "source": [
    "df_std = preprocess_numeric_data(df_in = df_cust, method = 'std')\n",
    "df_norm = preprocess_numeric_data(df_in = df_cust, method = 'norm')"
   ]
  },
  {
   "cell_type": "code",
   "execution_count": 13,
   "id": "d015be52",
   "metadata": {
    "scrolled": true
   },
   "outputs": [
    {
     "data": {
      "text/html": [
       "<div>\n",
       "<style scoped>\n",
       "    .dataframe tbody tr th:only-of-type {\n",
       "        vertical-align: middle;\n",
       "    }\n",
       "\n",
       "    .dataframe tbody tr th {\n",
       "        vertical-align: top;\n",
       "    }\n",
       "\n",
       "    .dataframe thead th {\n",
       "        text-align: right;\n",
       "    }\n",
       "</style>\n",
       "<table border=\"1\" class=\"dataframe\">\n",
       "  <thead>\n",
       "    <tr style=\"text-align: right;\">\n",
       "      <th></th>\n",
       "      <th>Total bill</th>\n",
       "      <th>Avg item</th>\n",
       "      <th>Avg Quantity</th>\n",
       "      <th>Avg Price</th>\n",
       "    </tr>\n",
       "    <tr>\n",
       "      <th>Customer ID</th>\n",
       "      <th></th>\n",
       "      <th></th>\n",
       "      <th></th>\n",
       "      <th></th>\n",
       "    </tr>\n",
       "  </thead>\n",
       "  <tbody>\n",
       "    <tr>\n",
       "      <th>12346.0</th>\n",
       "      <td>-0.305635</td>\n",
       "      <td>-0.415016</td>\n",
       "      <td>-0.157918</td>\n",
       "      <td>-0.597784</td>\n",
       "    </tr>\n",
       "    <tr>\n",
       "      <th>12347.0</th>\n",
       "      <td>-0.305635</td>\n",
       "      <td>0.965657</td>\n",
       "      <td>0.097672</td>\n",
       "      <td>0.595638</td>\n",
       "    </tr>\n",
       "    <tr>\n",
       "      <th>12348.0</th>\n",
       "      <td>-0.431611</td>\n",
       "      <td>0.005189</td>\n",
       "      <td>0.070969</td>\n",
       "      <td>-0.315490</td>\n",
       "    </tr>\n",
       "    <tr>\n",
       "      <th>12349.0</th>\n",
       "      <td>-0.305635</td>\n",
       "      <td>1.655993</td>\n",
       "      <td>0.149489</td>\n",
       "      <td>1.524161</td>\n",
       "    </tr>\n",
       "    <tr>\n",
       "      <th>12351.0</th>\n",
       "      <td>-0.431611</td>\n",
       "      <td>0.125247</td>\n",
       "      <td>0.000395</td>\n",
       "      <td>-0.150494</td>\n",
       "    </tr>\n",
       "    <tr>\n",
       "      <th>...</th>\n",
       "      <td>...</td>\n",
       "      <td>...</td>\n",
       "      <td>...</td>\n",
       "      <td>...</td>\n",
       "    </tr>\n",
       "    <tr>\n",
       "      <th>18283.0</th>\n",
       "      <td>0.198269</td>\n",
       "      <td>0.485423</td>\n",
       "      <td>-0.131426</td>\n",
       "      <td>-0.559419</td>\n",
       "    </tr>\n",
       "    <tr>\n",
       "      <th>18284.0</th>\n",
       "      <td>-0.431611</td>\n",
       "      <td>0.485423</td>\n",
       "      <td>0.147900</td>\n",
       "      <td>0.078581</td>\n",
       "    </tr>\n",
       "    <tr>\n",
       "      <th>18285.0</th>\n",
       "      <td>-0.431611</td>\n",
       "      <td>-0.475045</td>\n",
       "      <td>-0.073993</td>\n",
       "      <td>0.006849</td>\n",
       "    </tr>\n",
       "    <tr>\n",
       "      <th>18286.0</th>\n",
       "      <td>-0.305635</td>\n",
       "      <td>0.845598</td>\n",
       "      <td>0.027417</td>\n",
       "      <td>0.516119</td>\n",
       "    </tr>\n",
       "    <tr>\n",
       "      <th>18287.0</th>\n",
       "      <td>-0.053683</td>\n",
       "      <td>0.005189</td>\n",
       "      <td>0.061114</td>\n",
       "      <td>0.414173</td>\n",
       "    </tr>\n",
       "  </tbody>\n",
       "</table>\n",
       "<p>4285 rows × 4 columns</p>\n",
       "</div>"
      ],
      "text/plain": [
       "             Total bill  Avg item  Avg Quantity  Avg Price\n",
       "Customer ID                                               \n",
       "12346.0       -0.305635 -0.415016     -0.157918  -0.597784\n",
       "12347.0       -0.305635  0.965657      0.097672   0.595638\n",
       "12348.0       -0.431611  0.005189      0.070969  -0.315490\n",
       "12349.0       -0.305635  1.655993      0.149489   1.524161\n",
       "12351.0       -0.431611  0.125247      0.000395  -0.150494\n",
       "...                 ...       ...           ...        ...\n",
       "18283.0        0.198269  0.485423     -0.131426  -0.559419\n",
       "18284.0       -0.431611  0.485423      0.147900   0.078581\n",
       "18285.0       -0.431611 -0.475045     -0.073993   0.006849\n",
       "18286.0       -0.305635  0.845598      0.027417   0.516119\n",
       "18287.0       -0.053683  0.005189      0.061114   0.414173\n",
       "\n",
       "[4285 rows x 4 columns]"
      ]
     },
     "execution_count": 13,
     "metadata": {},
     "output_type": "execute_result"
    }
   ],
   "source": [
    "df_std"
   ]
  },
  {
   "cell_type": "code",
   "execution_count": 14,
   "id": "5710503d",
   "metadata": {
    "scrolled": false
   },
   "outputs": [
    {
     "data": {
      "image/png": "[encoded data removed]",
      "text/plain": [
       "<Figure size 1080x1080 with 4 Axes>"
      ]
     },
     "metadata": {
      "needs_background": "light"
     },
     "output_type": "display_data"
    }
   ],
   "source": [
    "histplot(df_std)"
   ]
  },
  {
   "cell_type": "markdown",
   "id": "c5c8904a",
   "metadata": {},
   "source": [
    "# Kmeans"
   ]
  },
  {
   "cell_type": "code",
   "execution_count": 15,
   "id": "b09e744d",
   "metadata": {},
   "outputs": [
    {
     "name": "stdout",
     "output_type": "stream",
     "text": [
      "2-means: with 2 iterations , Inertia=12988.924573649509\n",
      "3-means: with 8 iterations , Inertia=10145.920949321338\n",
      "4-means: with 10 iterations , Inertia=7796.11776863677\n",
      "5-means: with 37 iterations , Inertia=6358.323656471638\n",
      "6-means: with 30 iterations , Inertia=5391.907592055096\n",
      "7-means: with 15 iterations , Inertia=4632.21205831375\n",
      "8-means: with 29 iterations , Inertia=4009.257360747228\n",
      "9-means: with 15 iterations , Inertia=3577.7904597923966\n",
      "10-means: with 22 iterations , Inertia=3185.960576171884\n",
      "11-means: with 22 iterations , Inertia=2915.2968710703603\n",
      "12-means: with 21 iterations , Inertia=2573.630775603919\n",
      "13-means: with 20 iterations , Inertia=2383.86223256345\n",
      "14-means: with 23 iterations , Inertia=2245.641150687778\n",
      "15-means: with 16 iterations , Inertia=2061.2356765606496\n",
      "16-means: with 25 iterations , Inertia=1952.172494238568\n",
      "17-means: with 32 iterations , Inertia=1814.6669777416496\n",
      "18-means: with 31 iterations , Inertia=1709.9857749092175\n",
      "19-means: with 31 iterations , Inertia=1631.270088100278\n",
      "20-means: with 25 iterations , Inertia=1484.2092444121013\n"
     ]
    }
   ],
   "source": [
    "from sklearn.cluster import KMeans\n",
    "# Try k from 2 to 20\n",
    "MIN_K = 2\n",
    "MAX_K = 20\n",
    "\n",
    "results = {}\n",
    "\n",
    "for k in range(MIN_K, MAX_K+1):\n",
    "    kmeans = KMeans(n_clusters=k, random_state = 42)\n",
    "    kmeans.fit(df_std)\n",
    "    results[k] = {\n",
    "        'labels': kmeans.labels_,\n",
    "        'centroids': kmeans.cluster_centers_,\n",
    "        'inertia': kmeans.inertia_,\n",
    "        'n_iter': kmeans.n_iter_\n",
    "    }\n",
    "    print('{}-means: with {} iterations , Inertia={}'.format(k, results[k]['n_iter'], results[k]['inertia']))"
   ]
  },
  {
   "cell_type": "markdown",
   "id": "a6c3acbb",
   "metadata": {},
   "source": [
    "# Elbow method"
   ]
  },
  {
   "cell_type": "code",
   "execution_count": 16,
   "id": "971b2b6b",
   "metadata": {},
   "outputs": [
    {
     "data": {
      "image/png": "[encoded data removed]",
      "text/plain": [
       "<Figure size 720x720 with 1 Axes>"
      ]
     },
     "metadata": {
      "needs_background": "light"
     },
     "output_type": "display_data"
    }
   ],
   "source": [
    "plt.figure(figsize=(10, 10))\n",
    "plt.plot([results[k]['inertia'] for k in results.keys()],'o--', color='red', alpha=0.3)\n",
    "for x,y in enumerate([results[k]['inertia'] for k in results.keys()]):\n",
    "    label = \"{:.2f}\".format(y)\n",
    "    plt.annotate(label, # this is the text\n",
    "                 (x,y), # these are the coordinates to position the label\n",
    "                 textcoords=\"offset points\", # how to position the text\n",
    "                 xytext=(20,0), # distance from text to points (x,y)\n",
    "                 fontsize=7,\n",
    "                 ha='center',) # horizontal alignment can be left, right or center"
   ]
  },
  {
   "cell_type": "markdown",
   "id": "7e5ce2db",
   "metadata": {},
   "source": [
    "# Cluster visualization"
   ]
  },
  {
   "cell_type": "code",
   "execution_count": 17,
   "id": "d4b7a7eb",
   "metadata": {},
   "outputs": [
    {
     "name": "stdout",
     "output_type": "stream",
     "text": [
      "Total data points is 4285.\n"
     ]
    },
    {
     "data": {
      "image/png": "[encoded data removed]",
      "text/plain": [
       "<Figure size 432x288 with 1 Axes>"
      ]
     },
     "metadata": {
      "needs_background": "light"
     },
     "output_type": "display_data"
    }
   ],
   "source": [
    "# label ทั้ง 4314 จุด\n",
    "fig, ax = plt.subplots()\n",
    "bar = plt.bar([0,1,2,3,4], pd.Series(results[5]['labels']).value_counts().sort_index())\n",
    "ax.bar_label(bar, padding=1)\n",
    "fig.tight_layout()\n",
    "print('Total data points is {}.'.format(pd.Series(results[5]['labels']).count()))"
   ]
  },
  {
   "cell_type": "markdown",
   "id": "a00933bd",
   "metadata": {},
   "source": [
    "PCA - project ข้อมูลหลายมิติลงบนแกนที่มี Variance มากที่สุด ทำให้สามารถแสดงข้อมูลได้ภายในมิติที่ลดลงและเก็บรายละเอียดไว้ให้ได้มากที่สุด"
   ]
  },
  {
   "cell_type": "code",
   "execution_count": 18,
   "id": "d33c7146",
   "metadata": {},
   "outputs": [],
   "source": [
    "from sklearn.decomposition import PCA\n",
    "pca = PCA()\n",
    "transactions_2d = pca.fit_transform(df_std)\n",
    "centroids = pca.transform(results[5]['centroids']).tolist()\n",
    "\n",
    "c5 = list(zip(results[5]['labels'],transactions_2d[:,0],transactions_2d[:,1]))\n",
    "\n",
    "features = df_std.columns.to_list()\n",
    "# คำนวณ Loading เพื่อแสดงส่วนประกอบของ pca\n",
    "# ref: https://scentellegher.github.io/machine-learning/2020/01/27/pca-loadings-sklearn.html\n",
    "loadings = pca.components_.T * np.sqrt(pca.explained_variance_)"
   ]
  },
  {
   "cell_type": "markdown",
   "id": "e0f664fd",
   "metadata": {},
   "source": [
    "Variance ที่แต่ละ component อธิบายได้"
   ]
  },
  {
   "cell_type": "code",
   "execution_count": 19,
   "id": "d3a912a1",
   "metadata": {},
   "outputs": [
    {
     "data": {
      "text/plain": [
       "array([  0.        ,  42.07550607,  70.09910886,  91.22287286,\n",
       "       100.        ])"
      ]
     },
     "execution_count": 19,
     "metadata": {},
     "output_type": "execute_result"
    }
   ],
   "source": [
    "exp_var = np.array(([0]+[x*100 for x in list(pca.explained_variance_ratio_)])).cumsum()\n",
    "exp_var"
   ]
  },
  {
   "cell_type": "code",
   "execution_count": 20,
   "id": "1ab0318d",
   "metadata": {},
   "outputs": [
    {
     "data": {
      "text/plain": [
       "Text(0, 0.5, 'explained variance(%)')"
      ]
     },
     "execution_count": 20,
     "metadata": {},
     "output_type": "execute_result"
    },
    {
     "data": {
      "image/png": "[encoded data removed]",
      "text/plain": [
       "<Figure size 432x288 with 1 Axes>"
      ]
     },
     "metadata": {
      "needs_background": "light"
     },
     "output_type": "display_data"
    }
   ],
   "source": [
    "fig, ax = plt.subplots()\n",
    "bar = plt.bar(range(0,len(exp_var)), exp_var)\n",
    "ax.bar_label(bar, padding=3)\n",
    "ax.grid()\n",
    "plt.xlabel(\"component(s)\")\n",
    "plt.ylabel(\"explained variance(%)\")"
   ]
  },
  {
   "cell_type": "code",
   "execution_count": 21,
   "id": "3477fe66",
   "metadata": {},
   "outputs": [
    {
     "data": {
      "text/plain": [
       "'0.42'"
      ]
     },
     "execution_count": 21,
     "metadata": {},
     "output_type": "execute_result"
    }
   ],
   "source": [
    "f'{pca.explained_variance_ratio_[0]:.2f}'"
   ]
  },
  {
   "cell_type": "code",
   "execution_count": 22,
   "id": "24330675",
   "metadata": {},
   "outputs": [
    {
     "data": {
      "text/plain": [
       "array([ 0.04948485,  0.81964319, -0.56347443,  0.09073512])"
      ]
     },
     "execution_count": 22,
     "metadata": {},
     "output_type": "execute_result"
    }
   ],
   "source": [
    "loadings[0]"
   ]
  },
  {
   "cell_type": "code",
   "execution_count": 23,
   "id": "d24225f6",
   "metadata": {},
   "outputs": [
    {
     "data": {
      "text/plain": [
       "<AxesSubplot:>"
      ]
     },
     "execution_count": 23,
     "metadata": {},
     "output_type": "execute_result"
    },
    {
     "data": {
      "image/png": "[encoded data removed]",
      "text/plain": [
       "<Figure size 360x360 with 1 Axes>"
      ]
     },
     "metadata": {
      "needs_background": "light"
     },
     "output_type": "display_data"
    }
   ],
   "source": [
    "plt.figure(figsize=(5, 5))\n",
    "sns.scatterplot(x=transactions_2d[:,0], y=transactions_2d[:,1], hue=results[5]['labels']\n",
    "                ,legend=\"full\", palette=\"gist_rainbow\",alpha = 0.3)\n",
    "sns.scatterplot(x=[c[0] for c in centroids], y=[c[1] for c in centroids], hue=range(5), marker = 's'\n",
    "                ,legend = False, palette=\"gist_rainbow\")"
   ]
  },
  {
   "cell_type": "markdown",
   "id": "79757614",
   "metadata": {},
   "source": [
    "# Plot "
   ]
  },
  {
   "cell_type": "code",
   "execution_count": 24,
   "id": "0520e4ba",
   "metadata": {},
   "outputs": [
    {
     "data": {
      "text/plain": [
       "<Figure size 864x576 with 0 Axes>"
      ]
     },
     "metadata": {},
     "output_type": "display_data"
    },
    {
     "data": {
      "image/png": "[encoded data removed]",
      "text/plain": [
       "<Figure size 432x288 with 1 Axes>"
      ]
     },
     "metadata": {
      "needs_background": "light"
     },
     "output_type": "display_data"
    }
   ],
   "source": [
    "plt.figure(figsize=(12, 8))\n",
    "fig,axes = plt.subplots()\n",
    "fig = sns.scatterplot(x=[r[1] for r in c5], y=[r[2] for r in c5], hue=[r[0] for r in c5]\n",
    "                ,legend=\"full\", palette=\"gist_rainbow\",alpha = 0.25)\n",
    "fig = sns.scatterplot(x=[c[0] for c in centroids], y=[c[1] for c in centroids]\n",
    "                      , hue=np.arange(5), marker = 's'\n",
    "                      ,legend = False, palette=\"gist_rainbow\",alpha = 1)\n",
    "\n",
    "axes.set_xlabel('PC1 {}%'.format(f'{pca.explained_variance_ratio_[0]*100:.2f}'))\n",
    "axes.set_ylabel('PC2 {}%'.format(f'{pca.explained_variance_ratio_[1]*100:.2f}'))\n",
    "\n",
    "x_axis_gap = (axes.get_xlim()[1]-axes.get_xlim()[0])\n",
    "x_axis_mid = (axes.get_xlim()[0]+axes.get_xlim()[1])/2\n",
    "y_axis_gap = (axes.get_ylim()[1]-axes.get_ylim()[0])\n",
    "y_axis_mid = (axes.get_ylim()[0]+axes.get_ylim()[1])/2\n",
    "\n",
    "for i, feature in enumerate(features[:4]):\n",
    "    fig.arrow(x_axis_mid, y_axis_mid, loadings[i,0]*x_axis_gap*0.4\n",
    "              , loadings[i,1]*y_axis_gap*0.4, alpha = 1, width = 0.025)\n",
    "    plt.text(x_axis_mid+loadings[i,0]*x_axis_gap*0.475\n",
    "             ,y_axis_mid+loadings[i,1]*y_axis_gap*0.45, features[i], color = 'g', ha = 'center', va = 'center', size = 8)\n",
    "    "
   ]
  },
  {
   "cell_type": "markdown",
   "id": "2554e165",
   "metadata": {},
   "source": [
    "# พิจารณาลักษณะลูกค้าจาก PCA\n",
    "จาก PCA จะเห็นว่ากลุ่มลูกค้าถูกแบ่งตามจำนวนการซื้อ(ทั้งจำนวนบิล เงินที่ใช้ทั้งหมด และปริมาณสินค้าทั้งหมด) และค่าเฉลี่ยรายการต่อบิล\n",
    "\n",
    "* ลูกค้ากลุ่มที่ 3 จะมีความโดดเด่นเรื่องจำนวนรอบการซื้อเฉลี่ย(จำนวนบิลเยอะ)\n",
    "* ลูกค้ากลุ่มที่ 4 จะมีความโดดเด่นเรื่องจำนวนสินค้าและราคาสินค้าเฉลี่ยต่อบิล\n",
    "* ลูกค้ากลุ่มที่ 0 จะมีความโดดเด่นเรื่องความหลากหลายโดยเฉลี่ยของสินค้าที่ซื้อ(บิลนึงจะมีสินค้าหลายชนิดกว่ากลุ่มอื่น) แต่ปริมาณและราคาการซื้อต่อบิลจะไม่สูงนัก\n",
    "* ลูกค้ากลุ่มที่ 1 จะไม่ค่อยมีความโดดเด่นเท่าไรนัก ทั้งจำนวนรอบการซื้อ ปริมาณ และความหลากหลายของสินค้า"
   ]
  },
  {
   "cell_type": "markdown",
   "id": "5d26f4ef",
   "metadata": {},
   "source": [
    "# Apply label\n",
    "นำ Label ที่ไ้ด้จากการ clustering ไปใส่คืนใน dataset ของเรา"
   ]
  },
  {
   "cell_type": "code",
   "execution_count": 25,
   "id": "e788dedc",
   "metadata": {},
   "outputs": [],
   "source": [
    "df_cust = pd.concat([df_cust, pd.Series(results[5]['labels'], index = df_cust.index)], axis = 1\n",
    "                   ,names=list(df_cust) + ['Cluster'])\n",
    "df_cust.rename(columns = {0:'Cluster'}, inplace = True)"
   ]
  },
  {
   "cell_type": "markdown",
   "id": "51046b77",
   "metadata": {},
   "source": [
    "เพิ่ม Label ที่เราแบ่งได้ให้กับ df_cust_full ด้วย เพื่อประโยชน์ในการพิจารณารายได้รวม"
   ]
  },
  {
   "cell_type": "code",
   "execution_count": 26,
   "id": "a3ea67c7",
   "metadata": {},
   "outputs": [],
   "source": [
    "df_cust_full = pd.concat([df_cust_full, pd.Series(results[5]['labels'], index = df_cust_full.index)], axis = 1\n",
    "                   ,names=list(df_cust_full) + ['Cluster'])\n",
    "df_cust_full.rename(columns = {0:'Cluster'}, inplace = True)"
   ]
  },
  {
   "cell_type": "code",
   "execution_count": 27,
   "id": "e81520ee",
   "metadata": {
    "scrolled": false
   },
   "outputs": [
    {
     "data": {
      "text/html": [
       "<div>\n",
       "<style scoped>\n",
       "    .dataframe tbody tr th:only-of-type {\n",
       "        vertical-align: middle;\n",
       "    }\n",
       "\n",
       "    .dataframe tbody tr th {\n",
       "        vertical-align: top;\n",
       "    }\n",
       "\n",
       "    .dataframe thead th {\n",
       "        text-align: right;\n",
       "    }\n",
       "</style>\n",
       "<table border=\"1\" class=\"dataframe\">\n",
       "  <thead>\n",
       "    <tr style=\"text-align: right;\">\n",
       "      <th></th>\n",
       "      <th>Total bill</th>\n",
       "      <th>Avg item</th>\n",
       "      <th>Avg Quantity</th>\n",
       "      <th>Avg Price</th>\n",
       "      <th>Cluster</th>\n",
       "    </tr>\n",
       "    <tr>\n",
       "      <th>Customer ID</th>\n",
       "      <th></th>\n",
       "      <th></th>\n",
       "      <th></th>\n",
       "      <th></th>\n",
       "      <th></th>\n",
       "    </tr>\n",
       "  </thead>\n",
       "  <tbody>\n",
       "    <tr>\n",
       "      <th>12346.0</th>\n",
       "      <td>2</td>\n",
       "      <td>12.0</td>\n",
       "      <td>12.000000</td>\n",
       "      <td>84.680000</td>\n",
       "      <td>1</td>\n",
       "    </tr>\n",
       "    <tr>\n",
       "      <th>12347.0</th>\n",
       "      <td>2</td>\n",
       "      <td>35.0</td>\n",
       "      <td>414.000000</td>\n",
       "      <td>661.660000</td>\n",
       "      <td>0</td>\n",
       "    </tr>\n",
       "    <tr>\n",
       "      <th>12348.0</th>\n",
       "      <td>1</td>\n",
       "      <td>19.0</td>\n",
       "      <td>372.000000</td>\n",
       "      <td>221.160000</td>\n",
       "      <td>1</td>\n",
       "    </tr>\n",
       "    <tr>\n",
       "      <th>12349.0</th>\n",
       "      <td>2</td>\n",
       "      <td>46.5</td>\n",
       "      <td>495.500000</td>\n",
       "      <td>1110.570000</td>\n",
       "      <td>0</td>\n",
       "    </tr>\n",
       "    <tr>\n",
       "      <th>12351.0</th>\n",
       "      <td>1</td>\n",
       "      <td>21.0</td>\n",
       "      <td>261.000000</td>\n",
       "      <td>300.930000</td>\n",
       "      <td>1</td>\n",
       "    </tr>\n",
       "    <tr>\n",
       "      <th>...</th>\n",
       "      <td>...</td>\n",
       "      <td>...</td>\n",
       "      <td>...</td>\n",
       "      <td>...</td>\n",
       "      <td>...</td>\n",
       "    </tr>\n",
       "    <tr>\n",
       "      <th>18283.0</th>\n",
       "      <td>6</td>\n",
       "      <td>27.0</td>\n",
       "      <td>53.666667</td>\n",
       "      <td>103.228333</td>\n",
       "      <td>1</td>\n",
       "    </tr>\n",
       "    <tr>\n",
       "      <th>18284.0</th>\n",
       "      <td>1</td>\n",
       "      <td>27.0</td>\n",
       "      <td>493.000000</td>\n",
       "      <td>411.680000</td>\n",
       "      <td>1</td>\n",
       "    </tr>\n",
       "    <tr>\n",
       "      <th>18285.0</th>\n",
       "      <td>1</td>\n",
       "      <td>11.0</td>\n",
       "      <td>144.000000</td>\n",
       "      <td>377.000000</td>\n",
       "      <td>1</td>\n",
       "    </tr>\n",
       "    <tr>\n",
       "      <th>18286.0</th>\n",
       "      <td>2</td>\n",
       "      <td>33.0</td>\n",
       "      <td>303.500000</td>\n",
       "      <td>623.215000</td>\n",
       "      <td>0</td>\n",
       "    </tr>\n",
       "    <tr>\n",
       "      <th>18287.0</th>\n",
       "      <td>4</td>\n",
       "      <td>19.0</td>\n",
       "      <td>356.500000</td>\n",
       "      <td>573.927500</td>\n",
       "      <td>1</td>\n",
       "    </tr>\n",
       "  </tbody>\n",
       "</table>\n",
       "<p>4285 rows × 5 columns</p>\n",
       "</div>"
      ],
      "text/plain": [
       "             Total bill  Avg item  Avg Quantity    Avg Price  Cluster\n",
       "Customer ID                                                          \n",
       "12346.0               2      12.0     12.000000    84.680000        1\n",
       "12347.0               2      35.0    414.000000   661.660000        0\n",
       "12348.0               1      19.0    372.000000   221.160000        1\n",
       "12349.0               2      46.5    495.500000  1110.570000        0\n",
       "12351.0               1      21.0    261.000000   300.930000        1\n",
       "...                 ...       ...           ...          ...      ...\n",
       "18283.0               6      27.0     53.666667   103.228333        1\n",
       "18284.0               1      27.0    493.000000   411.680000        1\n",
       "18285.0               1      11.0    144.000000   377.000000        1\n",
       "18286.0               2      33.0    303.500000   623.215000        0\n",
       "18287.0               4      19.0    356.500000   573.927500        1\n",
       "\n",
       "[4285 rows x 5 columns]"
      ]
     },
     "execution_count": 27,
     "metadata": {},
     "output_type": "execute_result"
    }
   ],
   "source": [
    "df_cust"
   ]
  },
  {
   "cell_type": "code",
   "execution_count": 28,
   "id": "9f9b721c",
   "metadata": {},
   "outputs": [
    {
     "data": {
      "text/html": [
       "<div>\n",
       "<style scoped>\n",
       "    .dataframe tbody tr th:only-of-type {\n",
       "        vertical-align: middle;\n",
       "    }\n",
       "\n",
       "    .dataframe tbody tr th {\n",
       "        vertical-align: top;\n",
       "    }\n",
       "\n",
       "    .dataframe thead th {\n",
       "        text-align: right;\n",
       "    }\n",
       "</style>\n",
       "<table border=\"1\" class=\"dataframe\">\n",
       "  <thead>\n",
       "    <tr style=\"text-align: right;\">\n",
       "      <th></th>\n",
       "      <th>Total bill</th>\n",
       "      <th>Total item</th>\n",
       "      <th>Total Quantity</th>\n",
       "      <th>Total Price</th>\n",
       "      <th>Avg item</th>\n",
       "      <th>Avg Quantity</th>\n",
       "      <th>Avg Price</th>\n",
       "      <th>Cluster</th>\n",
       "    </tr>\n",
       "    <tr>\n",
       "      <th>Customer ID</th>\n",
       "      <th></th>\n",
       "      <th></th>\n",
       "      <th></th>\n",
       "      <th></th>\n",
       "      <th></th>\n",
       "      <th></th>\n",
       "      <th></th>\n",
       "      <th></th>\n",
       "    </tr>\n",
       "  </thead>\n",
       "  <tbody>\n",
       "    <tr>\n",
       "      <th>12346.0</th>\n",
       "      <td>2</td>\n",
       "      <td>24</td>\n",
       "      <td>24</td>\n",
       "      <td>169.36</td>\n",
       "      <td>12.0</td>\n",
       "      <td>12.000000</td>\n",
       "      <td>84.680000</td>\n",
       "      <td>1</td>\n",
       "    </tr>\n",
       "    <tr>\n",
       "      <th>12347.0</th>\n",
       "      <td>2</td>\n",
       "      <td>70</td>\n",
       "      <td>828</td>\n",
       "      <td>1323.32</td>\n",
       "      <td>35.0</td>\n",
       "      <td>414.000000</td>\n",
       "      <td>661.660000</td>\n",
       "      <td>0</td>\n",
       "    </tr>\n",
       "    <tr>\n",
       "      <th>12348.0</th>\n",
       "      <td>1</td>\n",
       "      <td>19</td>\n",
       "      <td>372</td>\n",
       "      <td>221.16</td>\n",
       "      <td>19.0</td>\n",
       "      <td>372.000000</td>\n",
       "      <td>221.160000</td>\n",
       "      <td>1</td>\n",
       "    </tr>\n",
       "    <tr>\n",
       "      <th>12349.0</th>\n",
       "      <td>2</td>\n",
       "      <td>93</td>\n",
       "      <td>991</td>\n",
       "      <td>2221.14</td>\n",
       "      <td>46.5</td>\n",
       "      <td>495.500000</td>\n",
       "      <td>1110.570000</td>\n",
       "      <td>0</td>\n",
       "    </tr>\n",
       "    <tr>\n",
       "      <th>12351.0</th>\n",
       "      <td>1</td>\n",
       "      <td>21</td>\n",
       "      <td>261</td>\n",
       "      <td>300.93</td>\n",
       "      <td>21.0</td>\n",
       "      <td>261.000000</td>\n",
       "      <td>300.930000</td>\n",
       "      <td>1</td>\n",
       "    </tr>\n",
       "    <tr>\n",
       "      <th>...</th>\n",
       "      <td>...</td>\n",
       "      <td>...</td>\n",
       "      <td>...</td>\n",
       "      <td>...</td>\n",
       "      <td>...</td>\n",
       "      <td>...</td>\n",
       "      <td>...</td>\n",
       "      <td>...</td>\n",
       "    </tr>\n",
       "    <tr>\n",
       "      <th>18283.0</th>\n",
       "      <td>6</td>\n",
       "      <td>162</td>\n",
       "      <td>322</td>\n",
       "      <td>619.37</td>\n",
       "      <td>27.0</td>\n",
       "      <td>53.666667</td>\n",
       "      <td>103.228333</td>\n",
       "      <td>1</td>\n",
       "    </tr>\n",
       "    <tr>\n",
       "      <th>18284.0</th>\n",
       "      <td>1</td>\n",
       "      <td>27</td>\n",
       "      <td>493</td>\n",
       "      <td>411.68</td>\n",
       "      <td>27.0</td>\n",
       "      <td>493.000000</td>\n",
       "      <td>411.680000</td>\n",
       "      <td>1</td>\n",
       "    </tr>\n",
       "    <tr>\n",
       "      <th>18285.0</th>\n",
       "      <td>1</td>\n",
       "      <td>11</td>\n",
       "      <td>144</td>\n",
       "      <td>377.00</td>\n",
       "      <td>11.0</td>\n",
       "      <td>144.000000</td>\n",
       "      <td>377.000000</td>\n",
       "      <td>1</td>\n",
       "    </tr>\n",
       "    <tr>\n",
       "      <th>18286.0</th>\n",
       "      <td>2</td>\n",
       "      <td>66</td>\n",
       "      <td>607</td>\n",
       "      <td>1246.43</td>\n",
       "      <td>33.0</td>\n",
       "      <td>303.500000</td>\n",
       "      <td>623.215000</td>\n",
       "      <td>0</td>\n",
       "    </tr>\n",
       "    <tr>\n",
       "      <th>18287.0</th>\n",
       "      <td>4</td>\n",
       "      <td>76</td>\n",
       "      <td>1426</td>\n",
       "      <td>2295.71</td>\n",
       "      <td>19.0</td>\n",
       "      <td>356.500000</td>\n",
       "      <td>573.927500</td>\n",
       "      <td>1</td>\n",
       "    </tr>\n",
       "  </tbody>\n",
       "</table>\n",
       "<p>4285 rows × 8 columns</p>\n",
       "</div>"
      ],
      "text/plain": [
       "             Total bill  Total item  Total Quantity  Total Price  Avg item  \\\n",
       "Customer ID                                                                  \n",
       "12346.0               2          24              24       169.36      12.0   \n",
       "12347.0               2          70             828      1323.32      35.0   \n",
       "12348.0               1          19             372       221.16      19.0   \n",
       "12349.0               2          93             991      2221.14      46.5   \n",
       "12351.0               1          21             261       300.93      21.0   \n",
       "...                 ...         ...             ...          ...       ...   \n",
       "18283.0               6         162             322       619.37      27.0   \n",
       "18284.0               1          27             493       411.68      27.0   \n",
       "18285.0               1          11             144       377.00      11.0   \n",
       "18286.0               2          66             607      1246.43      33.0   \n",
       "18287.0               4          76            1426      2295.71      19.0   \n",
       "\n",
       "             Avg Quantity    Avg Price  Cluster  \n",
       "Customer ID                                      \n",
       "12346.0         12.000000    84.680000        1  \n",
       "12347.0        414.000000   661.660000        0  \n",
       "12348.0        372.000000   221.160000        1  \n",
       "12349.0        495.500000  1110.570000        0  \n",
       "12351.0        261.000000   300.930000        1  \n",
       "...                   ...          ...      ...  \n",
       "18283.0         53.666667   103.228333        1  \n",
       "18284.0        493.000000   411.680000        1  \n",
       "18285.0        144.000000   377.000000        1  \n",
       "18286.0        303.500000   623.215000        0  \n",
       "18287.0        356.500000   573.927500        1  \n",
       "\n",
       "[4285 rows x 8 columns]"
      ]
     },
     "execution_count": 28,
     "metadata": {},
     "output_type": "execute_result"
    }
   ],
   "source": [
    "df_cust_full"
   ]
  },
  {
   "cell_type": "code",
   "execution_count": 29,
   "id": "8d1915c8",
   "metadata": {},
   "outputs": [
    {
     "data": {
      "text/plain": [
       "Cluster\n",
       "0    1130589.06\n",
       "1    4948694.00\n",
       "2      45904.10\n",
       "3    1965478.66\n",
       "4     548976.63\n",
       "Name: Total Price, dtype: float64"
      ]
     },
     "execution_count": 29,
     "metadata": {},
     "output_type": "execute_result"
    }
   ],
   "source": [
    "df_cust_full.groupby('Cluster').sum()['Total Price']"
   ]
  },
  {
   "cell_type": "markdown",
   "id": "cb9e32dd",
   "metadata": {},
   "source": [
    "# Visualization\n",
    "พิจารณาลักษณะของลูกค้าให้ละเอียดยิ่งขึ้นด้วย visualization แบบต่างๆ"
   ]
  },
  {
   "cell_type": "code",
   "execution_count": 30,
   "id": "3a45c311",
   "metadata": {},
   "outputs": [
    {
     "data": {
      "text/plain": [
       "array([0, 1, 2, 3, 4])"
      ]
     },
     "execution_count": 30,
     "metadata": {},
     "output_type": "execute_result"
    }
   ],
   "source": [
    "np.sort(df_cust['Cluster'].unique())\n"
   ]
  },
  {
   "cell_type": "markdown",
   "id": "f979de6d",
   "metadata": {},
   "source": [
    "* Box plot"
   ]
  },
  {
   "cell_type": "code",
   "execution_count": 31,
   "id": "f37adb04",
   "metadata": {},
   "outputs": [],
   "source": [
    "import plotly.express as px\n",
    "\n",
    "def boxplot():\n",
    "    fig, axes = plt.subplots(nrows=2, ncols=2)\n",
    "    fig.set_size_inches(15, 15)\n",
    "    plt.subplots_adjust(top=0.92, bottom=0.08, left=0.10, right=0.95, hspace=0.15,\n",
    "                        wspace=0.25)\n",
    "    for i,col in enumerate(df_cust.columns[:-1]):   \n",
    "        data = [df_cust[df_cust['Cluster'] == c][col] for c in np.sort(df_cust['Cluster'].unique())]    \n",
    "        axes[i//(2),i%2].boxplot(data, whis = 1.5)\n",
    "        axes[i//(2),i%2].set_title(col)\n",
    "        plt.setp(axes[i//(2),i%2], xticklabels=['0', '1', '2','3','4'])"
   ]
  },
  {
   "cell_type": "code",
   "execution_count": 32,
   "id": "552a4f79",
   "metadata": {
    "scrolled": false
   },
   "outputs": [
    {
     "data": {
      "image/png": "[encoded data removed]",
      "text/plain": [
       "<Figure size 1080x1080 with 4 Axes>"
      ]
     },
     "metadata": {
      "needs_background": "light"
     },
     "output_type": "display_data"
    }
   ],
   "source": [
    "boxplot()"
   ]
  },
  {
   "cell_type": "markdown",
   "id": "beca90bb",
   "metadata": {},
   "source": [
    "* Bar plot"
   ]
  },
  {
   "cell_type": "code",
   "execution_count": 33,
   "id": "b4d51306",
   "metadata": {},
   "outputs": [],
   "source": [
    "def barplot():\n",
    "    fig, axes = plt.subplots(nrows=3, ncols=2)\n",
    "    fig.set_size_inches(15, 15)\n",
    "    plt.subplots_adjust(top=0.92, bottom=0.08, left=0.10, right=0.95, hspace=0.25,\n",
    "                        wspace=0.35)\n",
    "    \n",
    "    for i,col in enumerate(df_cust.columns[:-1]): \n",
    "        bar = sns.barplot(ax=axes[i//(2),i%2], data=df_cust, x='Cluster', y=col, errorbar = None)\n",
    "        for container in bar.containers:\n",
    "            bar.bar_label(container)\n",
    "        axes[i//(2),i%2].set_title(col)\n",
    "        axes[i//(2),i%2].set_xticks(range(5))\n",
    "    \n",
    "    data_full = df_cust_full.groupby('Cluster').sum()['Total Price']/df_cust_full.groupby('Cluster').sum()['Total Price'].sum()\n",
    "    total_bar = sns.barplot(ax=axes[2,0], data=df_cust_full, x=df_cust_full.groupby('Cluster').sum()['Total Price'].index.tolist()\n",
    "                            , y=data_full, errorbar = None)\n",
    "    total_bar.set_title('Sale percentage')\n",
    "    for container in total_bar.containers:\n",
    "            total_bar.bar_label(container,fmt='%.2f')\n",
    "    plt.setp(axes[2,0], xticklabels=['0', '1', '2','3','4'])\n",
    "    \n",
    "    sale_bar = axes[2,1].bar([0,1,2,3,4], pd.Series(results[5]['labels']).value_counts().sort_index())\n",
    "    axes[2,1].bar_label(sale_bar, padding=1)\n",
    "    axes[2,1].set_title('จำนวนลูกค้าในแต่ละกลุ่ม')"
   ]
  },
  {
   "cell_type": "code",
   "execution_count": 34,
   "id": "ef92b5cf",
   "metadata": {
    "scrolled": false
   },
   "outputs": [
    {
     "data": {
      "image/png": "[encoded data removed]",
      "text/plain": [
       "<Figure size 1080x1080 with 6 Axes>"
      ]
     },
     "metadata": {
      "needs_background": "light"
     },
     "output_type": "display_data"
    }
   ],
   "source": [
    "barplot()"
   ]
  },
  {
   "cell_type": "markdown",
   "id": "7b46e7e7",
   "metadata": {},
   "source": [
    "# Analyze details in each cluster"
   ]
  },
  {
   "cell_type": "markdown",
   "id": "26722ba1",
   "metadata": {},
   "source": [
    "<b>Cluster0: จำนวน 772\n",
    "* ลูกค้ากลุ่มนี้ซื้อของเฉลี่ยราวๆ 2-3 ครั้ง แต่ก็มีบางคนที่ซื้อมากกว่าสิบครั้งเหมือนกัน\n",
    "* ในการซื้อแต่ละครั้งลูกค้ากลุ่มนี้จะซื้อสินค้าเฉลี่ยประมาณ45ชนิด บางคนซื้อเฉลี่ยเกิน 100 ชนิดต่อครั้ง\n",
    "* ปริมาณการซื้อโดยเฉลี่ยต่อครั้งอยู่ที่ 333 ชิ้นต่อครั้ง ถือว่าไม่สูงกว่ากลุ่มอื่น\n",
    "* จำนวนเงินต่อบิลโดยเฉลี่ยอยู่ที่ประมาณ 550 แต่บางคนยอดเฉลี่ยก็เกิน 2000 \n",
    "\n",
    "หากลองพิจารณาลักษณะการซื้อของลูกค้ากลุ่มนี้แล้ว ลูกค้ากลุ่มนี้มีพฤติกรรมที่ซื้อของทีละหลายๆชนิด แต่ชนิดละน้อยๆ ทำให้ค่าใช้จ่ายต่อบิลอยู่ในระดับที่ไม่สูง อย่างไรก็ตามหากลูกค้ากลุ่มนี้ซื้อปริมาณที่เยอะยอดขายก็จะเยอะเช่นกัน ยอดขายจากลูกค้ากลุ่มนี้คิดเป็น 13% ของทั้งหมด"
   ]
  },
  {
   "cell_type": "markdown",
   "id": "b9263a86",
   "metadata": {},
   "source": [
    " <b>Cluster1: จำนวน 3445\n",
    "* ลูกค้ากลุ่มนี้ซื้อของเฉลี่ยราวๆ 4-5 ครั้ง แต่ก็มีบางคนที่มีรอบการซื้อมากกว่า 50 ครั้ง\n",
    "* ในการซื้อแต่ละครั้งลูกค้ากลุ่มนี้จะซื้อสินค้าเฉลี่ยประมาณ 13 ชนิด\n",
    "* ปริมาณการซื้อโดยเฉลี่ยต่อครั้งอยู่ที่ 176 ชิ้นต่อครั้ง ซึ่งเป็นกลุ่มที่ปริมาณการซื้อต่ำที่สุด\n",
    "* จำนวนเงินต่อบิลโดยเฉลี่ยอยู่ที่ประมาณ 295 ซึ่งเป็นค่าเฉลี่ยที่ต่ำที่สุดต่อบิลของทุกกลุ่มลูกค้า น้อยคนที่จะใช้จ่ายเกิน 1000\n",
    "\n",
    "ลูกค้ากลุ่มนี้มีพฤติกรรมเหมือนลูกค้าทั่วไปคือมีปริมาณการซื้อที่น้อยและก็ทำยอดขายต่อการซื้อได้น้อยด้วย ถึงอย่างนั้นลูกค้ากลุ่มนี้ถือเป็นลูกค้ากลุ่มใหญ่ที่ทำยอดขายรวมได้ทั้งหมด 57% และภายในกลุ่มลูกค้านี้ก็ยังมีคนที่เป็นลูกค้าประจำที่มาซื้อหลายๆครั้งอีกด้วย \n",
    "\n",
    "ฉะนั้นถ้ารักษาลูกค้าประจำไว้และเปลี่ยนคนที่ซื้อได้น้อยๆเป็นลูกค้าประจำได้ ก็จะสามารถเพิ่มยอดขายจากกลุ่มลูกค้านี้ได้มาก<br>\n",
    "    "
   ]
  },
  {
   "cell_type": "markdown",
   "id": "97d11301",
   "metadata": {},
   "source": [
    "<b>Cluster2: จำนวน 2\n",
    "* เป็นลูกค้าส่วนน้อยที่มีพฤติกรรมการซื้อผิดจากกลุ่มอื่นทั้งหมด คือจะซื้อสินค้าต่อบิลละหลายหมื่นชิ้นและทำยอดขายต่อบิลสูงมาก\n",
    "* มีความเป็นไปได้ว่าลูกค้ากลุ่มนี้จะเป็นลูกค้าระดับองค์กร ฝ่ายจัดซื้อของบริษัท หรือหน่วยงานขนาดใหญ่ที่ต้องการซื้อขายทีละมากๆ ฉะนั้นเราสามารถสร้างความสัมพันธ์ที่ใกล้ชิดกับลูกค้ากลุ่มเหล่านี้ได้ เพื่อทำการซื้อขายในระยะยาว"
   ]
  },
  {
   "cell_type": "markdown",
   "id": "f962e1b6",
   "metadata": {},
   "source": [
    "กรณีนี้ข้อมูลมีลักษณะเป็น outlier คือมีปริมาณการซื้อขายที่มากผิดปกติ จึงควรตรวจสอบด้วยว่าข้อมูลนี้เป็นเพียง outlier (มีค่าสูงมาก) หรือเป็น noise (ข้อมูลผิด เป็นเท็จ)"
   ]
  },
  {
   "cell_type": "code",
   "execution_count": 35,
   "id": "51a58055",
   "metadata": {},
   "outputs": [
    {
     "data": {
      "text/html": [
       "<div>\n",
       "<style scoped>\n",
       "    .dataframe tbody tr th:only-of-type {\n",
       "        vertical-align: middle;\n",
       "    }\n",
       "\n",
       "    .dataframe tbody tr th {\n",
       "        vertical-align: top;\n",
       "    }\n",
       "\n",
       "    .dataframe thead th {\n",
       "        text-align: right;\n",
       "    }\n",
       "</style>\n",
       "<table border=\"1\" class=\"dataframe\">\n",
       "  <thead>\n",
       "    <tr style=\"text-align: right;\">\n",
       "      <th></th>\n",
       "      <th>Total bill</th>\n",
       "      <th>Total item</th>\n",
       "      <th>Total Quantity</th>\n",
       "      <th>Total Price</th>\n",
       "      <th>Avg item</th>\n",
       "      <th>Avg Quantity</th>\n",
       "      <th>Avg Price</th>\n",
       "      <th>Cluster</th>\n",
       "    </tr>\n",
       "    <tr>\n",
       "      <th>Customer ID</th>\n",
       "      <th></th>\n",
       "      <th></th>\n",
       "      <th></th>\n",
       "      <th></th>\n",
       "      <th></th>\n",
       "      <th></th>\n",
       "      <th></th>\n",
       "      <th></th>\n",
       "    </tr>\n",
       "  </thead>\n",
       "  <tbody>\n",
       "    <tr>\n",
       "      <th>13687.0</th>\n",
       "      <td>1</td>\n",
       "      <td>45</td>\n",
       "      <td>87167</td>\n",
       "      <td>11880.84</td>\n",
       "      <td>45.0</td>\n",
       "      <td>87167.0</td>\n",
       "      <td>11880.840</td>\n",
       "      <td>2</td>\n",
       "    </tr>\n",
       "    <tr>\n",
       "      <th>13902.0</th>\n",
       "      <td>5</td>\n",
       "      <td>57</td>\n",
       "      <td>220596</td>\n",
       "      <td>34023.26</td>\n",
       "      <td>11.4</td>\n",
       "      <td>44119.2</td>\n",
       "      <td>6804.652</td>\n",
       "      <td>2</td>\n",
       "    </tr>\n",
       "  </tbody>\n",
       "</table>\n",
       "</div>"
      ],
      "text/plain": [
       "             Total bill  Total item  Total Quantity  Total Price  Avg item  \\\n",
       "Customer ID                                                                  \n",
       "13687.0               1          45           87167     11880.84      45.0   \n",
       "13902.0               5          57          220596     34023.26      11.4   \n",
       "\n",
       "             Avg Quantity  Avg Price  Cluster  \n",
       "Customer ID                                    \n",
       "13687.0           87167.0  11880.840        2  \n",
       "13902.0           44119.2   6804.652        2  "
      ]
     },
     "execution_count": 35,
     "metadata": {},
     "output_type": "execute_result"
    }
   ],
   "source": [
    "df_cust_full[df_cust_full['Cluster'] == 2]"
   ]
  },
  {
   "cell_type": "code",
   "execution_count": 36,
   "id": "26465bae",
   "metadata": {},
   "outputs": [
    {
     "data": {
      "text/html": [
       "<div>\n",
       "<style scoped>\n",
       "    .dataframe tbody tr th:only-of-type {\n",
       "        vertical-align: middle;\n",
       "    }\n",
       "\n",
       "    .dataframe tbody tr th {\n",
       "        vertical-align: top;\n",
       "    }\n",
       "\n",
       "    .dataframe thead th {\n",
       "        text-align: right;\n",
       "    }\n",
       "</style>\n",
       "<table border=\"1\" class=\"dataframe\">\n",
       "  <thead>\n",
       "    <tr style=\"text-align: right;\">\n",
       "      <th></th>\n",
       "      <th>Invoice</th>\n",
       "      <th>StockCode</th>\n",
       "      <th>Description</th>\n",
       "      <th>Quantity</th>\n",
       "      <th>InvoiceDate</th>\n",
       "      <th>Price</th>\n",
       "      <th>Customer ID</th>\n",
       "      <th>Country</th>\n",
       "      <th>price_qty</th>\n",
       "    </tr>\n",
       "  </thead>\n",
       "  <tbody>\n",
       "    <tr>\n",
       "      <th>32199</th>\n",
       "      <td>491988</td>\n",
       "      <td>21559</td>\n",
       "      <td>STRAWBERRY LUNCHBOX WITH CUTLERY</td>\n",
       "      <td>6</td>\n",
       "      <td>2009-12-15 10:02:00</td>\n",
       "      <td>2.55</td>\n",
       "      <td>13902.0</td>\n",
       "      <td>Denmark</td>\n",
       "      <td>15.30</td>\n",
       "    </tr>\n",
       "    <tr>\n",
       "      <th>32200</th>\n",
       "      <td>491988</td>\n",
       "      <td>79323P</td>\n",
       "      <td>PINK CHERRY LIGHTS</td>\n",
       "      <td>12</td>\n",
       "      <td>2009-12-15 10:02:00</td>\n",
       "      <td>6.75</td>\n",
       "      <td>13902.0</td>\n",
       "      <td>Denmark</td>\n",
       "      <td>81.00</td>\n",
       "    </tr>\n",
       "    <tr>\n",
       "      <th>32201</th>\n",
       "      <td>491988</td>\n",
       "      <td>79323W</td>\n",
       "      <td>WHITE CHERRY LIGHTS</td>\n",
       "      <td>24</td>\n",
       "      <td>2009-12-15 10:02:00</td>\n",
       "      <td>5.45</td>\n",
       "      <td>13902.0</td>\n",
       "      <td>Denmark</td>\n",
       "      <td>130.80</td>\n",
       "    </tr>\n",
       "    <tr>\n",
       "      <th>32202</th>\n",
       "      <td>491988</td>\n",
       "      <td>21702</td>\n",
       "      <td>SET 5 MINI GATEAUX  FRIDGE MAGNETS</td>\n",
       "      <td>12</td>\n",
       "      <td>2009-12-15 10:02:00</td>\n",
       "      <td>1.69</td>\n",
       "      <td>13902.0</td>\n",
       "      <td>Denmark</td>\n",
       "      <td>20.28</td>\n",
       "    </tr>\n",
       "    <tr>\n",
       "      <th>32203</th>\n",
       "      <td>491988</td>\n",
       "      <td>21699</td>\n",
       "      <td>SET 5 MINI CHOCOLATE FRIDGE MAGNETS</td>\n",
       "      <td>12</td>\n",
       "      <td>2009-12-15 10:02:00</td>\n",
       "      <td>1.69</td>\n",
       "      <td>13902.0</td>\n",
       "      <td>Denmark</td>\n",
       "      <td>20.28</td>\n",
       "    </tr>\n",
       "    <tr>\n",
       "      <th>...</th>\n",
       "      <td>...</td>\n",
       "      <td>...</td>\n",
       "      <td>...</td>\n",
       "      <td>...</td>\n",
       "      <td>...</td>\n",
       "      <td>...</td>\n",
       "      <td>...</td>\n",
       "      <td>...</td>\n",
       "      <td>...</td>\n",
       "    </tr>\n",
       "    <tr>\n",
       "      <th>358774</th>\n",
       "      <td>524174</td>\n",
       "      <td>16047</td>\n",
       "      <td>POP ART PEN CASE &amp; PENS</td>\n",
       "      <td>5184</td>\n",
       "      <td>2010-09-27 16:30:00</td>\n",
       "      <td>0.08</td>\n",
       "      <td>13687.0</td>\n",
       "      <td>United Kingdom</td>\n",
       "      <td>414.72</td>\n",
       "    </tr>\n",
       "    <tr>\n",
       "      <th>358775</th>\n",
       "      <td>524174</td>\n",
       "      <td>16046</td>\n",
       "      <td>TEATIME PEN CASE &amp; PENS</td>\n",
       "      <td>4608</td>\n",
       "      <td>2010-09-27 16:30:00</td>\n",
       "      <td>0.08</td>\n",
       "      <td>13687.0</td>\n",
       "      <td>United Kingdom</td>\n",
       "      <td>368.64</td>\n",
       "    </tr>\n",
       "    <tr>\n",
       "      <th>358776</th>\n",
       "      <td>524174</td>\n",
       "      <td>16043</td>\n",
       "      <td>POP ART PUSH DOWN RUBBER</td>\n",
       "      <td>960</td>\n",
       "      <td>2010-09-27 16:30:00</td>\n",
       "      <td>0.06</td>\n",
       "      <td>13687.0</td>\n",
       "      <td>United Kingdom</td>\n",
       "      <td>57.60</td>\n",
       "    </tr>\n",
       "    <tr>\n",
       "      <th>358777</th>\n",
       "      <td>524174</td>\n",
       "      <td>10123G</td>\n",
       "      <td>ARMY CAMO WRAPPING TAPE</td>\n",
       "      <td>1104</td>\n",
       "      <td>2010-09-27 16:30:00</td>\n",
       "      <td>0.06</td>\n",
       "      <td>13687.0</td>\n",
       "      <td>United Kingdom</td>\n",
       "      <td>66.24</td>\n",
       "    </tr>\n",
       "    <tr>\n",
       "      <th>358778</th>\n",
       "      <td>524174</td>\n",
       "      <td>10123C</td>\n",
       "      <td>HEARTS WRAPPING TAPE</td>\n",
       "      <td>144</td>\n",
       "      <td>2010-09-27 16:30:00</td>\n",
       "      <td>0.06</td>\n",
       "      <td>13687.0</td>\n",
       "      <td>United Kingdom</td>\n",
       "      <td>8.64</td>\n",
       "    </tr>\n",
       "  </tbody>\n",
       "</table>\n",
       "<p>107 rows × 9 columns</p>\n",
       "</div>"
      ],
      "text/plain": [
       "       Invoice StockCode                          Description  Quantity  \\\n",
       "32199   491988     21559     STRAWBERRY LUNCHBOX WITH CUTLERY         6   \n",
       "32200   491988    79323P                   PINK CHERRY LIGHTS        12   \n",
       "32201   491988    79323W                  WHITE CHERRY LIGHTS        24   \n",
       "32202   491988     21702   SET 5 MINI GATEAUX  FRIDGE MAGNETS        12   \n",
       "32203   491988     21699  SET 5 MINI CHOCOLATE FRIDGE MAGNETS        12   \n",
       "...        ...       ...                                  ...       ...   \n",
       "358774  524174     16047              POP ART PEN CASE & PENS      5184   \n",
       "358775  524174     16046              TEATIME PEN CASE & PENS      4608   \n",
       "358776  524174     16043            POP ART PUSH DOWN RUBBER        960   \n",
       "358777  524174    10123G              ARMY CAMO WRAPPING TAPE      1104   \n",
       "358778  524174    10123C                HEARTS WRAPPING TAPE        144   \n",
       "\n",
       "               InvoiceDate  Price Customer ID         Country  price_qty  \n",
       "32199  2009-12-15 10:02:00   2.55     13902.0         Denmark      15.30  \n",
       "32200  2009-12-15 10:02:00   6.75     13902.0         Denmark      81.00  \n",
       "32201  2009-12-15 10:02:00   5.45     13902.0         Denmark     130.80  \n",
       "32202  2009-12-15 10:02:00   1.69     13902.0         Denmark      20.28  \n",
       "32203  2009-12-15 10:02:00   1.69     13902.0         Denmark      20.28  \n",
       "...                    ...    ...         ...             ...        ...  \n",
       "358774 2010-09-27 16:30:00   0.08     13687.0  United Kingdom     414.72  \n",
       "358775 2010-09-27 16:30:00   0.08     13687.0  United Kingdom     368.64  \n",
       "358776 2010-09-27 16:30:00   0.06     13687.0  United Kingdom      57.60  \n",
       "358777 2010-09-27 16:30:00   0.06     13687.0  United Kingdom      66.24  \n",
       "358778 2010-09-27 16:30:00   0.06     13687.0  United Kingdom       8.64  \n",
       "\n",
       "[107 rows x 9 columns]"
      ]
     },
     "execution_count": 36,
     "metadata": {},
     "output_type": "execute_result"
    }
   ],
   "source": [
    "df[(df['Customer ID'] == '13902.0') | (df['Customer ID'] == '13687.0')]"
   ]
  },
  {
   "cell_type": "markdown",
   "id": "2928a812",
   "metadata": {},
   "source": [
    "<b>Cluster3: จำนวน 37\n",
    "* ลูกค้ากลุ่มนี้มีลักษณะคล้ายกับกลุ่มที่ 0 และ 1 คือ ซื้อทีละไม่มากนักและยอดขายต่อบิลก็ไม่ได้ห่างกันมากด้วย แต่จุดเด่นของลูกค้ากลุ่มนี้คือ<b>ซื้อบ่อยมาก</b> จากกราฟยอดบิลจะเห็นได้ชัดเจน\n",
    "* อาจะเรียกได้เลยว่าทั้ง 37 คนนี้คือ \"ลูกค้า(ประจำ)ระดับสูงสุด\" เพราะยอดขายจากพวกเขาคิดเป็นอัตราถึง 23% (สูงเป็นอันดับที่2 จากทั้งหมด 5 กลุ่มลูกค้า)   "
   ]
  },
  {
   "cell_type": "markdown",
   "id": "2bcb2a15",
   "metadata": {},
   "source": [
    "<b>Cluster4: จำนวน29\n",
    "* ลูกค้ากลุ่มนี้มีลักษณะคล้ายกับกลุ่มที่2 เพียงแค่ปริมาณการซื้อต่อครั้งอาจจะไม่เยอะเท่า หากพิจารณดีๆแล้วอาจจะถือว่าเป็นกลุ่มเดียวกับกลุ่มที่2ก็ได้ เพียงแค่กลุ่มที่2มีปริมาณการซื้อที่เยอะมากจนเป็น outlier และถูกโมเดลจับไปอยู่อีกกลุ่ม\n",
    "* เป็นไปได้ว่าลูกค้ากลุ่มนี้จะเป็นระดับองค์กรเช่นเดียวกับกลุ่มที่2\n",
    "* จากรูป PCA biplot ด้านล่างจะเห็นว่ากลุ่มที่2(สีเขียว) และกลุ่มที่4(สีชมพู) มีลักษณะเด่นในทิศทางเดียวกัน คือ ด้านจำนวนปริมาณการซื้อและยอดขายต่อบิล"
   ]
  },
  {
   "attachments": {
    "PCA%20loading.png": {
     "image/png": "[encoded data removed]"
    }
   },
   "cell_type": "markdown",
   "id": "dbbeca53",
   "metadata": {},
   "source": [
    "![PCA%20loading.png](attachment:PCA%20loading.png)"
   ]
  },
  {
   "cell_type": "markdown",
   "id": "41078c41",
   "metadata": {},
   "source": [
    "# Data Analytics"
   ]
  },
  {
   "cell_type": "markdown",
   "id": "7f330f9a",
   "metadata": {},
   "source": [
    "สร้าง Chart ต่างๆเพื่อใช้สื่อสารและพรรณาข้อมูลให้เห็นภาพชัดเจนยิ่งขึ้น และอธิบายไปถึงข้อสรุปว่าเรามีแนวทางจะทำอย่างไรบ้าง เพื่อให้บริษัทนี้มียอดขายดีขึ้น ^^"
   ]
  },
  {
   "cell_type": "markdown",
   "id": "12e4721d",
   "metadata": {},
   "source": [
    "<b>ลักษณะของลูกค้า</b><br>\n",
    "ลูกค้า Cluster ที่ 0 1 และ 3 มีลักษณะการซื้อแบบลูกค้าทั่วไป คือ ปริมาณการซื้อและยอดการซื้อต่อบิลไม่สูง<br>\n",
    "ลูกค้า Cluster ที่ 2 และ 4 มีลักษณะการซื้อแบบลูกค้าระดับองค์กร คือ ปริมาณและยอดการซื้อต่อบิลสูงมาก"
   ]
  },
  {
   "attachments": {
    "PCA%20loading.png": {
     "image/png": "[encoded data removed]"
    }
   },
   "cell_type": "markdown",
   "id": "966755e1",
   "metadata": {},
   "source": [
    "![PCA%20loading.png](attachment:PCA%20loading.png)"
   ]
  },
  {
   "cell_type": "code",
   "execution_count": 37,
   "id": "6e9ca17c",
   "metadata": {},
   "outputs": [],
   "source": [
    "data_full = (df_cust_full.groupby('Cluster').sum()['Total Price']/df_cust_full.groupby('Cluster').sum()['Total Price'].sum())*100\n",
    "cluster_count = pd.Series(results[5]['labels']).value_counts().sort_index()\n",
    "cluster_count = (pd.Series(results[5]['labels']).value_counts().sort_index()/cluster_count.sum())*100\n",
    "\n",
    "df_summary = pd.DataFrame(data = {'count':cluster_count\n",
    "                                 ,'total sale':data_full\n",
    "                                 })"
   ]
  },
  {
   "cell_type": "code",
   "execution_count": 38,
   "id": "d8b33102",
   "metadata": {},
   "outputs": [
    {
     "data": {
      "text/plain": [
       "Text(0.5, 0, 'purchase frequency')"
      ]
     },
     "execution_count": 38,
     "metadata": {},
     "output_type": "execute_result"
    },
    {
     "data": {
      "image/png": "[encoded data removed]",
      "text/plain": [
       "<Figure size 1080x288 with 3 Axes>"
      ]
     },
     "metadata": {
      "needs_background": "light"
     },
     "output_type": "display_data"
    }
   ],
   "source": [
    "data_c1 = df_cust_full[df_cust_full['Cluster'] == 1]\n",
    "\n",
    "fig,ax = plt.subplots(1,3)\n",
    "fig.set_figwidth(15)\n",
    "plt.subplots_adjust(wspace=0.25)\n",
    "size_bar = ax[0].bar(np.arange(5)-0.2, df_summary['count'].to_list(), 0.4,label = 'Size(%)')\n",
    "sale_bar = ax[0].bar(np.arange(5)+0.2, df_summary['total sale'].to_list(), 0.4,label = 'total sale(%)')\n",
    "ax[0].set_title('สัดส่วนจำนวนลูกค้าและยอดขายรวม\\nในแต่ละ Cluster')\n",
    "ax[0].set_xlabel('Cluster')\n",
    "ax[0].set_ylabel(\"%\")\n",
    "ax[0].grid(True)\n",
    "ax[0].bar_label(size_bar, padding=1, fmt='%.2f', size = 9)\n",
    "ax[0].bar_label(sale_bar, padding=1, fmt='%.2f', size = 9)\n",
    "ax[0].legend()\n",
    "\n",
    "ax[1].hist(data_c1['Total bill'],bins = 10)\n",
    "ax[1].set_title('Histogram: จำนวนการซื้อใน Cluster1\\n ')\n",
    "ax[1].set_ylabel(\"Frequency\")\n",
    "ax[1].set_xlabel(\"Number of purchase(s)\")\n",
    "\n",
    "data_c1 = df_cust_full[df_cust_full['Cluster'] == 1]\n",
    "scatter = sns.scatterplot(ax = ax[2], data = data_c1\n",
    "                        ,y = 'Total Price', x = 'Total bill'\n",
    "                        )\n",
    "z = np.polyfit(data_c1['Total bill'], data_c1['Total Price'], 1)\n",
    "p = np.poly1d(z)\n",
    "ax[2].plot(data_c1['Total bill'], p(data_c1['Total bill']),c = 'red')\n",
    "\n",
    "ax[2].set_title('แนวโน้มยอดขายสูงขึ้นเมื่อจำนวนครั้งการซื้อมากขึ้น\\nใน Cluster1')\n",
    "ax[2].set_ylabel(\"Customer total spend\")\n",
    "ax[2].set_xlabel(\"purchase frequency\")\n",
    "\n"
   ]
  },
  {
   "cell_type": "markdown",
   "id": "bae1fea3",
   "metadata": {},
   "source": [
    "* Cluster ที่ 1 เป็น core value ของบริษัทเนื่องจากเป็นฐานลูกค้ากลุ่มที่ใหญ่ที่สุด\n",
    "* จากสถิติจะเห็นว่าการเพิ่มจำนวนการซื้อของลูกค้าจะเพิ่มยอดการใช้จ่ายได้ด้วย \n",
    "* Cluster ที่ 1 มีจำนวนลูกค้าสูงอยู่แล้ว แต่ว่าลูกค้าส่วนใหญ่มีจำนวนครั้งการซื้อที่น้อย โดยเฉพาะพวกที่ยังซื้อ\n",
    "\n",
    "* Cluster ที่ 3 เป็นลูกค้าชั้นดี เป็นกลุ่มคนเล็กๆแต่ทำยอดขายให้บริษัทได้ถึง 22.75%\n",
    "\n",
    "ถือเป็นอีกกลุ่มที่บริษัทควรให้ความสำคัญทั้งกิจกรรมการสนับสนุนการขายกับลูกค้ากลุ่มนี้ รวมถึงการอำนวยความสะดวกให้พวกเขาใช้บริการต่อไป\n",
    "\n",
    "<b> แนวทางสำหรับลูกค้ากลุ่มที่1 :</b> รักษาฐานลูกค้าและพยายามเปลี่ยนลูกค้าให้เป็นลูกค้าประจำ\n",
    "* สร้างระบบสมาชิก เพื่อรักษาลูกค้าขาจรให้อยู่กับเราและเพิ่มโอกาสที่จะเปลี่ยนจากขาจรเป็นขาประจำด้วยระบบการสะสมคะแนน\n",
    "* หากเป็นไปได้ควรสำรวจลูกค้ากลุ่มนี้ให้ลึกขึ้นไปอีกด้วยว่าพวกเขาเป็นใครและพฤติกรรมการซื้อด้านอื่นๆเป็นอย่างไรบ้าง เช่น ชอบซื้อจากหน้าเว็บ ชอบชำระด้วยบัตรเครดิต การจะทำเช่นนี้อาจจะต้องเก็บและศึกษาข้อมูลลูกค้าเพิ่ม แต่ถ้าหากทำสำเร็จบริษัทก็จะสามารถทำกิจกรรมส่งเสริมการขาย หรือปรับพฤติกรรมบางอย่างของลูกค้าได้\n",
    "\n",
    "<b> แนวทางสำหรับลูกค้ากลุ่มที่3 :</b> ดูแลและรักษาลูกค้าชั้นเลิศให้ดีที่สุด\n",
    "* บริษัทควรให้ความสำคัญทั้งกิจกรรมการสนับสนุนการขายกับลูกค้ากลุ่มนี้ รวมถึงการอำนวยความสะดวกเพื่อให้พวกเขาใช้บริการต่อไป"
   ]
  },
  {
   "cell_type": "code",
   "execution_count": 39,
   "id": "d763cfd8",
   "metadata": {},
   "outputs": [
    {
     "data": {
      "image/png": "[encoded data removed]",
      "text/plain": [
       "<Figure size 1080x288 with 3 Axes>"
      ]
     },
     "metadata": {
      "needs_background": "light"
     },
     "output_type": "display_data"
    }
   ],
   "source": [
    "fig, axes = plt.subplots(1,3)\n",
    "fig.set_figwidth(15)\n",
    "plt.subplots_adjust(wspace=0.25)\n",
    "data_c01 = df_cust[(df_cust['Cluster'] == 0) | (df_cust['Cluster'] == 1)]\n",
    "data_c1 = df_cust_full[df_cust_full['Cluster'] == 1]\n",
    "data_c0 = df_cust_full[df_cust_full['Cluster'] == 0]\n",
    "various_purc = sns.boxplot(ax = axes[0], data = df_cust\n",
    "                            ,y = 'Avg item',x = 'Cluster'\n",
    "                            )\n",
    "various_purc.set_title('ลูกค้าใน Cluster0 มีการซื้อสินค้า\\nหลากหลายประเภทมากที่สุด')\n",
    "\n",
    "sale_potential = sns.boxplot(ax = axes[2], data = data_c01\n",
    "                            ,y = 'Avg Price',x = 'Cluster'\n",
    "                            )\n",
    "sale_potential.set_ylabel('Average sale per bill')\n",
    "sale_potential.set_title('โดยรวมแล้ว\\n Cluster0 มียอดการใช้จ่ายต่อบิลสูงกว่า Cluster1')\n",
    "\n",
    "corr_potential0 = sns.scatterplot(ax = axes[1], data = data_c0, alpha=0.45\n",
    "                                ,y = 'Total Price', x = 'Total bill'\n",
    "                                )\n",
    "corr_potential1 = sns.scatterplot(ax = axes[1], data = data_c1, alpha=0.45\n",
    "                                ,y = 'Total Price', x = 'Total bill'\n",
    "                                )\n",
    "z0 = np.polyfit(data_c0['Total bill'], data_c0['Total Price'], 1)\n",
    "p0 = np.poly1d(z0)\n",
    "z1 = np.polyfit(data_c1['Total bill'], data_c1['Total Price'], 1)\n",
    "p1 = np.poly1d(z1)\n",
    "line0 = axes[1].plot(data_c0['Total bill'], p0(data_c0['Total bill']),c = 'blue', label = 'cluster0')\n",
    "line1 = axes[1].plot(data_c1['Total bill'], p1(data_c1['Total bill']),c = 'red', label = 'cluster1')\n",
    "axes[1].legend()\n",
    "axes[1].set_title('แนวโน้มของยอดซื้อทั้งหมด\\nของCluster0 คล้ายกับ Cluster1')\n",
    "axes[1].set_ylabel(\"Customer total spend\")\n",
    "ax1_label = axes[1].set_xlabel(\"purchase frequency\")"
   ]
  },
  {
   "cell_type": "markdown",
   "id": "e6aa3050",
   "metadata": {},
   "source": [
    "* Cluster 0 นานๆทีถึงจะซื้อของ <b>แต่พอซื้อก็เลือกสินค้าหลายชิ้นมากๆ</b> บริษัทสามารถพัฒนาประสบการณ์การซื้อของของลูกค้าได้ หากทำสำเร็จ ปริมาณของลูกค้ากลุ่มนี้จะเพิ่มขึ้น<br>\n",
    "* Cluster ที่ 0 และ 1 มีลักษณะเป็นลูกค้าทั่วไป แต่จริงๆแล้วลูกค้าใน cluster0 มีศักยภาพที่จะเพิ่มยอดขายได้มากกว่าลูกค้าใน cluster1 เสียอีก\n",
    "* หากจำนวนลูกค้าในกลุ่มนี้เพิ่มขึ้นมากพอ ลูกค้าใน cluster นี้อาจจะเป็น core value แทน cluster1 ก็ได้\n",
    "\n",
    "<b> แนวทางสำหรับลูกค้า Cluster ที่ 0: เพิ่มปริมาณลูกค้ากลุ่มนี้ รวมถึงเพิ่มอัตราลูกค้าประจำ <br>\n",
    "* ปรับปรุงสถานที่ รวมถึงพนักงานขาย เพิ่มความสะดวกสบายในการเลือกซื้อ ในกรณีลูกค้ามาเดินเลือกซื้อแบบ physical item\n",
    "* ปรับปรุงเว็บไซต์ แอพพลิเคชั่น หรือแพลตฟอร์มการซื้อขาย กรณีที่ลูกค้าซื้อผ่านระบบออนไลน์ เว็บ หรือ แพลตฟอร์ม\n",
    "* หากมีลูกค้ามาพอ ศึกษาข้อมูลลูกค้าเหมือนกับนโยบายใน cluster0 จากนั้นสนับสนุนให้ลูกค้าเข้ามา ทั้งเพิ่มช่องทางการขาย หรือ จัดกิจกกรรมส่งเสริมการขาย\n",
    "* ทดสอบทางสถิติว่าความสะดวกสบายส่งผลให้ลูกค้าลักษณะนี้มาใช้บริการเพิ่มขึ้นจริงหรือไม่"
   ]
  },
  {
   "cell_type": "markdown",
   "id": "be825ba8",
   "metadata": {},
   "source": [
    "<b>แนวทางสำหรับลูกค้า Cluster ที่ 2 และ 4 : กระชับความสัมพันธ์เพื่อการซื้อขายระยะยาว\n",
    "\n",
    "บริษัทสามารถมีความสัมพันธ์ใกล้ชิดระหว่างลูกค้าที่เป็นหน่วยงานขนาดใหญ่มากกว่าระหว่างลูกค้าที่เป็นบุคคลอยู่แล้ว การรักษาความสัมพันธ์กับลูกค้ากลุ่มนี้จะสามารถรักษาโอกาสทางการขายได้"
   ]
  },
  {
   "cell_type": "code",
   "execution_count": null,
   "id": "4e39e720",
   "metadata": {},
   "outputs": [],
   "source": []
  }
 ],
 "metadata": {
  "kernelspec": {
   "display_name": "Python 3 (ipykernel)",
   "language": "python",
   "name": "python3"
  },
  "language_info": {
   "codemirror_mode": {
    "name": "ipython",
    "version": 3
   },
   "file_extension": ".py",
   "mimetype": "text/x-python",
   "name": "python",
   "nbconvert_exporter": "python",
   "pygments_lexer": "ipython3",
   "version": "3.8.8"
  }
 },
 "nbformat": 4,
 "nbformat_minor": 5
}
